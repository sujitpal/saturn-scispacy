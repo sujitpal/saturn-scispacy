{
 "cells": [
  {
   "cell_type": "markdown",
   "metadata": {},
   "source": [
    "# Split Paragraphs to Sentences\n",
    "\n",
    "Input to this notebook is the output of the `01-load-and-parse.ipynb` notebook. We use the sentence splitter in the SciSpacy English Medium language model to split the paragraphs retrieved from the JSON files to sentences. At the end of this exercise, we should have a dataframe that contains the (`cord_uid`, `pid`, `sid`, `stext`)."
   ]
  },
  {
   "cell_type": "code",
   "execution_count": 1,
   "metadata": {},
   "outputs": [],
   "source": [
    "import dask.dataframe as dd\n",
    "import json\n",
    "import numpy as np\n",
    "import pandas as pd\n",
    "import spacy\n",
    "import s3fs\n",
    "import scispacy\n",
    "\n",
    "from dask.distributed import Client, progress, get_worker"
   ]
  },
  {
   "cell_type": "code",
   "execution_count": 2,
   "metadata": {},
   "outputs": [],
   "source": [
    "BUCKET_NAME = \"saturn-elsevierinc\"\n",
    "\n",
    "PARAGRAPH_FOLDER = \"/\".join([\"s3:/\", BUCKET_NAME, \"cord19-paras-pq-sm\"])\n",
    "SENTENCE_FOLDER = \"/\".join([\"s3:/\", BUCKET_NAME, \"cord19-sents-pq-sm\"])"
   ]
  },
  {
   "cell_type": "code",
   "execution_count": 3,
   "metadata": {},
   "outputs": [
    {
     "data": {
      "text/html": [
       "<div>\n",
       "<style scoped>\n",
       "    .dataframe tbody tr th:only-of-type {\n",
       "        vertical-align: middle;\n",
       "    }\n",
       "\n",
       "    .dataframe tbody tr th {\n",
       "        vertical-align: top;\n",
       "    }\n",
       "\n",
       "    .dataframe thead th {\n",
       "        text-align: right;\n",
       "    }\n",
       "</style>\n",
       "<table border=\"1\" class=\"dataframe\">\n",
       "  <thead>\n",
       "    <tr style=\"text-align: right;\">\n",
       "      <th></th>\n",
       "      <th>cord_uid</th>\n",
       "      <th>pid</th>\n",
       "      <th>ptext</th>\n",
       "    </tr>\n",
       "  </thead>\n",
       "  <tbody>\n",
       "    <tr>\n",
       "      <th>6498</th>\n",
       "      <td>sz7qmi8q</td>\n",
       "      <td>T</td>\n",
       "      <td></td>\n",
       "    </tr>\n",
       "    <tr>\n",
       "      <th>6498</th>\n",
       "      <td>sz7qmi8q</td>\n",
       "      <td>A0</td>\n",
       "      <td>Schwer punkt: Lun gen-und Pleura pa tho lo gie...</td>\n",
       "    </tr>\n",
       "    <tr>\n",
       "      <th>6498</th>\n",
       "      <td>sz7qmi8q</td>\n",
       "      <td>A1</td>\n",
       "      <td>In traal veolä re Ak ku mu la ti on von SP-A I...</td>\n",
       "    </tr>\n",
       "    <tr>\n",
       "      <th>6498</th>\n",
       "      <td>sz7qmi8q</td>\n",
       "      <td>A2</td>\n",
       "      <td>In traal veolä re Ak ku mu la ti on von pro SP...</td>\n",
       "    </tr>\n",
       "    <tr>\n",
       "      <th>6498</th>\n",
       "      <td>sz7qmi8q</td>\n",
       "      <td>B0</td>\n",
       "      <td>Die hi sto pa tho lo gi sche Un ter su chung v...</td>\n",
       "    </tr>\n",
       "  </tbody>\n",
       "</table>\n",
       "</div>"
      ],
      "text/plain": [
       "      cord_uid pid                                              ptext\n",
       "6498  sz7qmi8q   T                                                   \n",
       "6498  sz7qmi8q  A0  Schwer punkt: Lun gen-und Pleura pa tho lo gie...\n",
       "6498  sz7qmi8q  A1  In traal veolä re Ak ku mu la ti on von SP-A I...\n",
       "6498  sz7qmi8q  A2  In traal veolä re Ak ku mu la ti on von pro SP...\n",
       "6498  sz7qmi8q  B0  Die hi sto pa tho lo gi sche Un ter su chung v..."
      ]
     },
     "execution_count": 3,
     "metadata": {},
     "output_type": "execute_result"
    }
   ],
   "source": [
    "paragraph_df = dd.read_parquet(PARAGRAPH_FOLDER, engine=\"pyarrow\")\n",
    "paragraph_df = paragraph_df.dropna()\n",
    "paragraph_df.head(npartitions=10)"
   ]
  },
  {
   "cell_type": "code",
   "execution_count": 4,
   "metadata": {},
   "outputs": [
    {
     "data": {
      "text/plain": [
       "1215"
      ]
     },
     "execution_count": 4,
     "metadata": {},
     "output_type": "execute_result"
    }
   ],
   "source": [
    "len(paragraph_df)"
   ]
  },
  {
   "cell_type": "markdown",
   "metadata": {},
   "source": [
    "## Processing"
   ]
  },
  {
   "cell_type": "code",
   "execution_count": 5,
   "metadata": {},
   "outputs": [
    {
     "name": "stderr",
     "output_type": "stream",
     "text": [
      "/opt/conda/envs/saturn/lib/python3.7/site-packages/distributed/node.py:155: UserWarning: Port 8787 is already in use.\n",
      "Perhaps you already have a cluster running?\n",
      "Hosting the HTTP server on port 43839 instead\n",
      "  http_address[\"port\"], self.http_server.port\n"
     ]
    },
    {
     "data": {
      "text/html": [
       "<table style=\"border: 2px solid white;\">\n",
       "<tr>\n",
       "<td style=\"vertical-align: top; border: 0px solid white\">\n",
       "<h3 style=\"text-align: left;\">Client</h3>\n",
       "<ul style=\"text-align: left; list-style: none; margin: 0; padding: 0;\">\n",
       "  <li><b>Scheduler: </b>inproc://10.0.0.177/586/1</li>\n",
       "  <li><b>Dashboard: </b><a href='http://10.0.0.177:43839/status' target='_blank'>http://10.0.0.177:43839/status</a></li>\n",
       "</ul>\n",
       "</td>\n",
       "<td style=\"vertical-align: top; border: 0px solid white\">\n",
       "<h3 style=\"text-align: left;\">Cluster</h3>\n",
       "<ul style=\"text-align: left; list-style:none; margin: 0; padding: 0;\">\n",
       "  <li><b>Workers: </b>2</li>\n",
       "  <li><b>Cores: </b>2</li>\n",
       "  <li><b>Memory: </b>16.25 GB</li>\n",
       "</ul>\n",
       "</td>\n",
       "</tr>\n",
       "</table>"
      ],
      "text/plain": [
       "<Client: 'inproc://10.0.0.177/586/1' processes=2 threads=2, memory=16.25 GB>"
      ]
     },
     "execution_count": 5,
     "metadata": {},
     "output_type": "execute_result"
    }
   ],
   "source": [
    "client = Client(processes=False, n_workers=2, threads_per_worker=1)\n",
    "client"
   ]
  },
  {
   "cell_type": "code",
   "execution_count": 6,
   "metadata": {},
   "outputs": [],
   "source": [
    "def chunk_large_text(large_text, chunk_size, max_batch_size):\n",
    "    text_len = len(large_text)\n",
    "    start, end, texts = 0, 0, []\n",
    "    while start < text_len:\n",
    "        try:\n",
    "            end = start + text[start : start + chunk_size].rindex('.')\n",
    "            texts.append(text[start : end + 1])\n",
    "            if end == start or len(texts) >= max_batch_size:\n",
    "                break\n",
    "            start = end + 1\n",
    "        except:\n",
    "            break\n",
    "    if start < text_len and len(texts) < max_batch_size:\n",
    "        texts.append(text[start:])\n",
    "    return texts\n",
    "            \n",
    "\n",
    "def handle_row(row, nlp, max_text_length=1000000, max_batch_size=10):\n",
    "    # max_text_length is a SpaCy limit\n",
    "    ptext = row.ptext\n",
    "    if len(ptext) > max_text_length:\n",
    "        texts = chunk_large_text(\n",
    "            ptext, max_text_length * 0.9, max_batch_size)\n",
    "    else:\n",
    "        texts = [ptext]\n",
    "    sents = []\n",
    "    for doc in nlp.pipe(texts):\n",
    "        for sid, sent in enumerate(doc.sents):\n",
    "            sents.append((sid, sent.text))\n",
    "    return sents\n",
    "\n",
    "\n",
    "def handle_partition(part):\n",
    "    worker = get_worker()\n",
    "    try:\n",
    "        nlp = worker.nlp\n",
    "    except:\n",
    "        nlp = spacy.load(\"en_core_sci_md\", disable=[\"tagger\", \"ner\"])\n",
    "        worker.nlp = nlp\n",
    "    sentences = part.apply(lambda rows: handle_row(rows, nlp), \n",
    "                           axis=1)\n",
    "    return sentences"
   ]
  },
  {
   "cell_type": "code",
   "execution_count": 7,
   "metadata": {},
   "outputs": [],
   "source": [
    "# TODO: revisit?\n",
    "# sentence_df = paragraph_df.repartition(npartitions=20)\n",
    "sentence_df = paragraph_df.copy()"
   ]
  },
  {
   "cell_type": "code",
   "execution_count": 8,
   "metadata": {},
   "outputs": [],
   "source": [
    "# sentence_df.head()"
   ]
  },
  {
   "cell_type": "code",
   "execution_count": 9,
   "metadata": {},
   "outputs": [],
   "source": [
    "sentence_df[\"sentences\"] = sentence_df.map_partitions(\n",
    "    lambda part: handle_partition(part), meta=(\"object\"))\n",
    "sentence_df = sentence_df.drop(columns=[\"ptext\"])\n",
    "sentence_df = sentence_df.explode(\"sentences\")\n",
    "sentence_df = sentence_df.dropna()\n",
    "sentence_df[\"sid\"] = sentence_df.apply(\n",
    "    lambda row: row.sentences[0], meta=(\"int\"), axis=1)\n",
    "sentence_df[\"stext\"] = sentence_df.apply(\n",
    "    lambda row: row.sentences[1], meta=(\"str\"), axis=1)\n",
    "sentence_df = sentence_df.drop(columns=[\"sentences\"])"
   ]
  },
  {
   "cell_type": "code",
   "execution_count": 10,
   "metadata": {},
   "outputs": [],
   "source": [
    "sentence_df.cord_uid = sentence_df.cord_uid.astype(str)\n",
    "sentence_df.pid = sentence_df.pid.astype(str)\n",
    "sentence_df.sid = sentence_df.sid.astype(np.int32)\n",
    "sentence_df.stext = sentence_df.stext.astype(str)"
   ]
  },
  {
   "cell_type": "code",
   "execution_count": 11,
   "metadata": {},
   "outputs": [],
   "source": [
    "fs = s3fs.S3FileSystem()\n",
    "if fs.exists(SENTENCE_FOLDER):\n",
    "    fs.rm(SENTENCE_FOLDER, recursive=True)"
   ]
  },
  {
   "cell_type": "code",
   "execution_count": 12,
   "metadata": {},
   "outputs": [],
   "source": [
    "sentence_df.to_parquet(SENTENCE_FOLDER, engine=\"pyarrow\", compression=\"snappy\")"
   ]
  },
  {
   "cell_type": "markdown",
   "metadata": {},
   "source": [
    "## Verify Result"
   ]
  },
  {
   "cell_type": "code",
   "execution_count": 13,
   "metadata": {},
   "outputs": [
    {
     "data": {
      "text/html": [
       "<div>\n",
       "<style scoped>\n",
       "    .dataframe tbody tr th:only-of-type {\n",
       "        vertical-align: middle;\n",
       "    }\n",
       "\n",
       "    .dataframe tbody tr th {\n",
       "        vertical-align: top;\n",
       "    }\n",
       "\n",
       "    .dataframe thead th {\n",
       "        text-align: right;\n",
       "    }\n",
       "</style>\n",
       "<table border=\"1\" class=\"dataframe\">\n",
       "  <thead>\n",
       "    <tr style=\"text-align: right;\">\n",
       "      <th></th>\n",
       "      <th>cord_uid</th>\n",
       "      <th>pid</th>\n",
       "      <th>sid</th>\n",
       "      <th>stext</th>\n",
       "    </tr>\n",
       "  </thead>\n",
       "  <tbody>\n",
       "    <tr>\n",
       "      <th>6498</th>\n",
       "      <td>sz7qmi8q</td>\n",
       "      <td>A0</td>\n",
       "      <td>0</td>\n",
       "      <td>Schwer punkt: Lun gen-und Pleura pa tho lo gie...</td>\n",
       "    </tr>\n",
       "    <tr>\n",
       "      <th>6498</th>\n",
       "      <td>sz7qmi8q</td>\n",
       "      <td>A0</td>\n",
       "      <td>1</td>\n",
       "      <td>für Pa tho lo gie der Ruhr-Uni ver si tät Bo c...</td>\n",
       "    </tr>\n",
       "    <tr>\n",
       "      <th>6498</th>\n",
       "      <td>sz7qmi8q</td>\n",
       "      <td>A0</td>\n",
       "      <td>2</td>\n",
       "      <td>fi ka ti on der Er kran kun gen des pul mo</td>\n",
       "    </tr>\n",
       "    <tr>\n",
       "      <th>6498</th>\n",
       "      <td>sz7qmi8q</td>\n",
       "      <td>A0</td>\n",
       "      <td>3</td>\n",
       "      <td>na len Sur fac tant-Sys tems TYP I TYP II TYP ...</td>\n",
       "    </tr>\n",
       "    <tr>\n",
       "      <th>6498</th>\n",
       "      <td>sz7qmi8q</td>\n",
       "      <td>A0</td>\n",
       "      <td>4</td>\n",
       "      <td>re nenund Säug lings al ter Neu ge bo</td>\n",
       "    </tr>\n",
       "  </tbody>\n",
       "</table>\n",
       "</div>"
      ],
      "text/plain": [
       "      cord_uid pid  sid                                              stext\n",
       "6498  sz7qmi8q  A0    0  Schwer punkt: Lun gen-und Pleura pa tho lo gie...\n",
       "6498  sz7qmi8q  A0    1  für Pa tho lo gie der Ruhr-Uni ver si tät Bo c...\n",
       "6498  sz7qmi8q  A0    2         fi ka ti on der Er kran kun gen des pul mo\n",
       "6498  sz7qmi8q  A0    3  na len Sur fac tant-Sys tems TYP I TYP II TYP ...\n",
       "6498  sz7qmi8q  A0    4              re nenund Säug lings al ter Neu ge bo"
      ]
     },
     "execution_count": 13,
     "metadata": {},
     "output_type": "execute_result"
    }
   ],
   "source": [
    "sentence_df = dd.read_parquet(SENTENCE_FOLDER, engine=\"pyarrow\")\n",
    "\n",
    "sentence_df.head(npartitions=10)"
   ]
  },
  {
   "cell_type": "code",
   "execution_count": 14,
   "metadata": {},
   "outputs": [
    {
     "data": {
      "text/plain": [
       "7313"
      ]
     },
     "execution_count": 14,
     "metadata": {},
     "output_type": "execute_result"
    }
   ],
   "source": [
    "len(sentence_df)"
   ]
  },
  {
   "cell_type": "code",
   "execution_count": null,
   "metadata": {},
   "outputs": [],
   "source": []
  }
 ],
 "metadata": {
  "kernelspec": {
   "display_name": "Python 3",
   "language": "python",
   "name": "python3"
  },
  "language_info": {
   "codemirror_mode": {
    "name": "ipython",
    "version": 3
   },
   "file_extension": ".py",
   "mimetype": "text/x-python",
   "name": "python",
   "nbconvert_exporter": "python",
   "pygments_lexer": "ipython3",
   "version": "3.7.5"
  }
 },
 "nbformat": 4,
 "nbformat_minor": 4
}
