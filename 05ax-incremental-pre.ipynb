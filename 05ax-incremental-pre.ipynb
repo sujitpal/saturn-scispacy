{
 "cells": [
  {
   "cell_type": "markdown",
   "metadata": {},
   "source": [
    "# Incremental Pre-processor\n",
    "\n",
    "This notebook is given paths to two different metadata files from two CORD-19 datasets from different dates, and computes the diffs between the two datasets. The first date (`d1`) should always be prior to the second date (`d2`) and the objective is to compute the file diffs between `d1` and `d2`. The notebook will work out:\n",
    "* deletions -- papers which exist in the dataset for `d1` but were deleted from the dataset for `d2`.\n",
    "* additions -- papers which did not exist in the dataset for `d1` but were added to the dataset for `d2`.\n",
    "\n",
    "## Initialize Dask Cluster"
   ]
  },
  {
   "cell_type": "code",
   "execution_count": 1,
   "metadata": {},
   "outputs": [
    {
     "data": {
      "text/plain": [
       "{'medium': 'Medium - 2 cores - 4 GB RAM',\n",
       " 'large': 'Large - 2 cores - 16 GB RAM',\n",
       " 'xlarge': 'XLarge - 4 cores - 32 GB RAM',\n",
       " '2xlarge': '2XLarge - 8 cores - 64 GB RAM',\n",
       " '4xlarge': '4XLarge - 16 cores - 128 GB RAM',\n",
       " '8xlarge': '8XLarge - 32 cores - 256 GB RAM',\n",
       " '12xlarge': '12XLarge - 48 cores - 384 GB RAM',\n",
       " '16xlarge': '16XLarge - 64 cores - 512 GB RAM',\n",
       " 'g4dnxlarge': 'T4-XLarge - 4 cores - 16 GB RAM - 1 GPU',\n",
       " 'g4dn4xlarge': 'T4-4XLarge - 16 cores - 64 GB RAM - 1 GPU',\n",
       " 'g4dn8xlarge': 'T4-8XLarge - 32 cores - 128 GB RAM - 1 GPU',\n",
       " 'p32xlarge': 'V100-2XLarge - 8 cores - 61 GB RAM - 1 GPU',\n",
       " 'p38xlarge': 'V100-8XLarge - 32 cores - 244 GB RAM - 4 GPU',\n",
       " 'p316xlarge': 'V100-16XLarge - 64 cores - 488 GB RAM - 8 GPU'}"
      ]
     },
     "execution_count": 1,
     "metadata": {},
     "output_type": "execute_result"
    }
   ],
   "source": [
    "from dask_saturn.core import describe_sizes\n",
    "\n",
    "describe_sizes()"
   ]
  },
  {
   "cell_type": "code",
   "execution_count": 2,
   "metadata": {},
   "outputs": [
    {
     "name": "stdout",
     "output_type": "stream",
     "text": [
      "[2020-09-30 23:35:25] INFO - dask-saturn | Starting cluster. Status: pending\n",
      "[2020-09-30 23:35:31] INFO - dask-saturn | Starting cluster. Status: pending\n",
      "[2020-09-30 23:35:44] INFO - dask-saturn | Cluster is ready\n"
     ]
    },
    {
     "data": {
      "application/vnd.jupyter.widget-view+json": {
       "model_id": "92abaebd82ef44d9af4366375ff1c603",
       "version_major": 2,
       "version_minor": 0
      },
      "text/plain": [
       "VBox(children=(HTML(value='<h2>SaturnCluster</h2>'), HBox(children=(HTML(value='\\n<div>\\n  <style scoped>\\n   …"
      ]
     },
     "metadata": {},
     "output_type": "display_data"
    }
   ],
   "source": [
    "from dask.distributed import Client, wait\n",
    "from dask_saturn import SaturnCluster\n",
    "import time\n",
    "\n",
    "n_workers = 10\n",
    "cluster = SaturnCluster(n_workers=n_workers, scheduler_size='2xlarge', worker_size='4xlarge', nthreads=16)\n",
    "client = Client(cluster)\n",
    "cluster"
   ]
  },
  {
   "cell_type": "code",
   "execution_count": 3,
   "metadata": {},
   "outputs": [
    {
     "name": "stdout",
     "output_type": "stream",
     "text": [
      "Waiting for workers, got 0\n",
      "Waiting for workers, got 0\n",
      "Waiting for workers, got 3\n",
      "Done!\n"
     ]
    }
   ],
   "source": [
    "while len(client.scheduler_info()['workers']) < n_workers:\n",
    "    print('Waiting for workers, got', len(client.scheduler_info()['workers']))\n",
    "    time.sleep(30)\n",
    "print('Done!')"
   ]
  },
  {
   "cell_type": "code",
   "execution_count": 4,
   "metadata": {},
   "outputs": [],
   "source": [
    "import boto3\n",
    "import dask.dataframe as dd\n",
    "import json\n",
    "import numpy as np\n",
    "import os\n",
    "import pandas as pd\n",
    "import s3fs\n",
    "\n",
    "from dask.distributed import Client, progress, get_worker"
   ]
  },
  {
   "cell_type": "code",
   "execution_count": 5,
   "metadata": {},
   "outputs": [],
   "source": [
    "BUCKET_NAME = \"s3://saturn-elsevierinc\"\n",
    "\n",
    "D1 = \"2020-08-28\"\n",
    "D2 = \"2020-09-28\"\n",
    "\n",
    "METADATA_D1 = \"/\".join([BUCKET_NAME, \"cord19\", \"metadata.csv\"])\n",
    "METADATA_D2 = \"/\".join([BUCKET_NAME, D2, \"metadata.csv\"])\n",
    "\n",
    "DELETED_FOLDER = \"/\".join([BUCKET_NAME, \"incremental\", \"deleted\"])\n",
    "ADDED_FOLDER = \"/\".join([BUCKET_NAME, \"incremental\", \"added\"])"
   ]
  },
  {
   "cell_type": "markdown",
   "metadata": {},
   "source": [
    "## Read Metadata Files\n",
    "\n",
    "The `metadata.csv` files contains rows with null titles. These typically represent papers which haven't made it into the dataset yet, so they are removed in `prepare_metadata`. We just need the columns named in `col_sublist` for our computations going forward.\n",
    "\n",
    "There are very few of these, 74 and 52 in our case (check with `df.title_is_null` == 1)."
   ]
  },
  {
   "cell_type": "code",
   "execution_count": 6,
   "metadata": {},
   "outputs": [],
   "source": [
    "def detect_null(f):\n",
    "    return 1 if pd.isnull(f) else 0\n",
    "\n",
    "\n",
    "col_sublist = [\"cord_uid\", \"title\", \"abstract\",\n",
    "               \"pdf_json_files\", \"pmc_json_files\"]\n",
    "\n",
    "\n",
    "def prepare_metadata(meta_df_path, col_sublist=col_sublist):\n",
    "    meta_df = dd.read_csv(meta_df_path, dtype=str)\n",
    "    # remove null titles\n",
    "    meta_df[\"title_is_null\"] = meta_df.apply(lambda row: detect_null(row.title),\n",
    "                                              axis=1, meta=(\"int\"))\n",
    "    meta_df = meta_df[meta_df.title_is_null == 0]\n",
    "    # show column sublist\n",
    "    meta_df = meta_df[col_sublist]\n",
    "    # set index for merging\n",
    "    meta_df.set_index(\"cord_uid\")\n",
    "    return meta_df"
   ]
  },
  {
   "cell_type": "code",
   "execution_count": 7,
   "metadata": {},
   "outputs": [
    {
     "data": {
      "text/html": [
       "<div>\n",
       "<style scoped>\n",
       "    .dataframe tbody tr th:only-of-type {\n",
       "        vertical-align: middle;\n",
       "    }\n",
       "\n",
       "    .dataframe tbody tr th {\n",
       "        vertical-align: top;\n",
       "    }\n",
       "\n",
       "    .dataframe thead th {\n",
       "        text-align: right;\n",
       "    }\n",
       "</style>\n",
       "<table border=\"1\" class=\"dataframe\">\n",
       "  <thead>\n",
       "    <tr style=\"text-align: right;\">\n",
       "      <th></th>\n",
       "      <th>cord_uid</th>\n",
       "      <th>title</th>\n",
       "      <th>abstract</th>\n",
       "      <th>pdf_json_files</th>\n",
       "      <th>pmc_json_files</th>\n",
       "    </tr>\n",
       "  </thead>\n",
       "  <tbody>\n",
       "    <tr>\n",
       "      <th>0</th>\n",
       "      <td>ug7v899j</td>\n",
       "      <td>Clinical features of culture-proven Mycoplasma...</td>\n",
       "      <td>OBJECTIVE: This retrospective chart review des...</td>\n",
       "      <td>document_parses/pdf_json/d1aafb70c066a2068b027...</td>\n",
       "      <td>document_parses/pmc_json/PMC35282.xml.json</td>\n",
       "    </tr>\n",
       "    <tr>\n",
       "      <th>1</th>\n",
       "      <td>02tnwd4m</td>\n",
       "      <td>Nitric oxide: a pro-inflammatory mediator in l...</td>\n",
       "      <td>Inflammatory diseases of the respiratory tract...</td>\n",
       "      <td>document_parses/pdf_json/6b0567729c2143a66d737...</td>\n",
       "      <td>document_parses/pmc_json/PMC59543.xml.json</td>\n",
       "    </tr>\n",
       "    <tr>\n",
       "      <th>2</th>\n",
       "      <td>ejv2xln0</td>\n",
       "      <td>Surfactant protein-D and pulmonary host defense</td>\n",
       "      <td>Surfactant protein-D (SP-D) participates in th...</td>\n",
       "      <td>document_parses/pdf_json/06ced00a5fc04215949aa...</td>\n",
       "      <td>document_parses/pmc_json/PMC59549.xml.json</td>\n",
       "    </tr>\n",
       "    <tr>\n",
       "      <th>3</th>\n",
       "      <td>2b73a28n</td>\n",
       "      <td>Role of endothelin-1 in lung disease</td>\n",
       "      <td>Endothelin-1 (ET-1) is a 21 amino acid peptide...</td>\n",
       "      <td>document_parses/pdf_json/348055649b6b8cf2b9a37...</td>\n",
       "      <td>document_parses/pmc_json/PMC59574.xml.json</td>\n",
       "    </tr>\n",
       "    <tr>\n",
       "      <th>4</th>\n",
       "      <td>9785vg6d</td>\n",
       "      <td>Gene expression in epithelial cells in respons...</td>\n",
       "      <td>Respiratory syncytial virus (RSV) and pneumoni...</td>\n",
       "      <td>document_parses/pdf_json/5f48792a5fa08bed9f560...</td>\n",
       "      <td>document_parses/pmc_json/PMC59580.xml.json</td>\n",
       "    </tr>\n",
       "  </tbody>\n",
       "</table>\n",
       "</div>"
      ],
      "text/plain": [
       "   cord_uid                                              title  \\\n",
       "0  ug7v899j  Clinical features of culture-proven Mycoplasma...   \n",
       "1  02tnwd4m  Nitric oxide: a pro-inflammatory mediator in l...   \n",
       "2  ejv2xln0    Surfactant protein-D and pulmonary host defense   \n",
       "3  2b73a28n               Role of endothelin-1 in lung disease   \n",
       "4  9785vg6d  Gene expression in epithelial cells in respons...   \n",
       "\n",
       "                                            abstract  \\\n",
       "0  OBJECTIVE: This retrospective chart review des...   \n",
       "1  Inflammatory diseases of the respiratory tract...   \n",
       "2  Surfactant protein-D (SP-D) participates in th...   \n",
       "3  Endothelin-1 (ET-1) is a 21 amino acid peptide...   \n",
       "4  Respiratory syncytial virus (RSV) and pneumoni...   \n",
       "\n",
       "                                      pdf_json_files  \\\n",
       "0  document_parses/pdf_json/d1aafb70c066a2068b027...   \n",
       "1  document_parses/pdf_json/6b0567729c2143a66d737...   \n",
       "2  document_parses/pdf_json/06ced00a5fc04215949aa...   \n",
       "3  document_parses/pdf_json/348055649b6b8cf2b9a37...   \n",
       "4  document_parses/pdf_json/5f48792a5fa08bed9f560...   \n",
       "\n",
       "                               pmc_json_files  \n",
       "0  document_parses/pmc_json/PMC35282.xml.json  \n",
       "1  document_parses/pmc_json/PMC59543.xml.json  \n",
       "2  document_parses/pmc_json/PMC59549.xml.json  \n",
       "3  document_parses/pmc_json/PMC59574.xml.json  \n",
       "4  document_parses/pmc_json/PMC59580.xml.json  "
      ]
     },
     "execution_count": 7,
     "metadata": {},
     "output_type": "execute_result"
    }
   ],
   "source": [
    "meta1_df = prepare_metadata(METADATA_D1)\n",
    "meta1_df.head()"
   ]
  },
  {
   "cell_type": "code",
   "execution_count": 8,
   "metadata": {},
   "outputs": [
    {
     "data": {
      "text/plain": [
       "238944"
      ]
     },
     "execution_count": 8,
     "metadata": {},
     "output_type": "execute_result"
    }
   ],
   "source": [
    "len(meta1_df)"
   ]
  },
  {
   "cell_type": "code",
   "execution_count": 9,
   "metadata": {},
   "outputs": [
    {
     "data": {
      "text/html": [
       "<div>\n",
       "<style scoped>\n",
       "    .dataframe tbody tr th:only-of-type {\n",
       "        vertical-align: middle;\n",
       "    }\n",
       "\n",
       "    .dataframe tbody tr th {\n",
       "        vertical-align: top;\n",
       "    }\n",
       "\n",
       "    .dataframe thead th {\n",
       "        text-align: right;\n",
       "    }\n",
       "</style>\n",
       "<table border=\"1\" class=\"dataframe\">\n",
       "  <thead>\n",
       "    <tr style=\"text-align: right;\">\n",
       "      <th></th>\n",
       "      <th>cord_uid</th>\n",
       "      <th>title</th>\n",
       "      <th>abstract</th>\n",
       "      <th>pdf_json_files</th>\n",
       "      <th>pmc_json_files</th>\n",
       "    </tr>\n",
       "  </thead>\n",
       "  <tbody>\n",
       "    <tr>\n",
       "      <th>0</th>\n",
       "      <td>ug7v899j</td>\n",
       "      <td>Clinical features of culture-proven Mycoplasma...</td>\n",
       "      <td>OBJECTIVE: This retrospective chart review des...</td>\n",
       "      <td>document_parses/pdf_json/d1aafb70c066a2068b027...</td>\n",
       "      <td>document_parses/pmc_json/PMC35282.xml.json</td>\n",
       "    </tr>\n",
       "    <tr>\n",
       "      <th>1</th>\n",
       "      <td>02tnwd4m</td>\n",
       "      <td>Nitric oxide: a pro-inflammatory mediator in l...</td>\n",
       "      <td>Inflammatory diseases of the respiratory tract...</td>\n",
       "      <td>document_parses/pdf_json/6b0567729c2143a66d737...</td>\n",
       "      <td>document_parses/pmc_json/PMC59543.xml.json</td>\n",
       "    </tr>\n",
       "    <tr>\n",
       "      <th>2</th>\n",
       "      <td>ejv2xln0</td>\n",
       "      <td>Surfactant protein-D and pulmonary host defense</td>\n",
       "      <td>Surfactant protein-D (SP-D) participates in th...</td>\n",
       "      <td>document_parses/pdf_json/06ced00a5fc04215949aa...</td>\n",
       "      <td>document_parses/pmc_json/PMC59549.xml.json</td>\n",
       "    </tr>\n",
       "    <tr>\n",
       "      <th>3</th>\n",
       "      <td>2b73a28n</td>\n",
       "      <td>Role of endothelin-1 in lung disease</td>\n",
       "      <td>Endothelin-1 (ET-1) is a 21 amino acid peptide...</td>\n",
       "      <td>document_parses/pdf_json/348055649b6b8cf2b9a37...</td>\n",
       "      <td>document_parses/pmc_json/PMC59574.xml.json</td>\n",
       "    </tr>\n",
       "    <tr>\n",
       "      <th>4</th>\n",
       "      <td>9785vg6d</td>\n",
       "      <td>Gene expression in epithelial cells in respons...</td>\n",
       "      <td>Respiratory syncytial virus (RSV) and pneumoni...</td>\n",
       "      <td>document_parses/pdf_json/5f48792a5fa08bed9f560...</td>\n",
       "      <td>document_parses/pmc_json/PMC59580.xml.json</td>\n",
       "    </tr>\n",
       "  </tbody>\n",
       "</table>\n",
       "</div>"
      ],
      "text/plain": [
       "   cord_uid                                              title  \\\n",
       "0  ug7v899j  Clinical features of culture-proven Mycoplasma...   \n",
       "1  02tnwd4m  Nitric oxide: a pro-inflammatory mediator in l...   \n",
       "2  ejv2xln0    Surfactant protein-D and pulmonary host defense   \n",
       "3  2b73a28n               Role of endothelin-1 in lung disease   \n",
       "4  9785vg6d  Gene expression in epithelial cells in respons...   \n",
       "\n",
       "                                            abstract  \\\n",
       "0  OBJECTIVE: This retrospective chart review des...   \n",
       "1  Inflammatory diseases of the respiratory tract...   \n",
       "2  Surfactant protein-D (SP-D) participates in th...   \n",
       "3  Endothelin-1 (ET-1) is a 21 amino acid peptide...   \n",
       "4  Respiratory syncytial virus (RSV) and pneumoni...   \n",
       "\n",
       "                                      pdf_json_files  \\\n",
       "0  document_parses/pdf_json/d1aafb70c066a2068b027...   \n",
       "1  document_parses/pdf_json/6b0567729c2143a66d737...   \n",
       "2  document_parses/pdf_json/06ced00a5fc04215949aa...   \n",
       "3  document_parses/pdf_json/348055649b6b8cf2b9a37...   \n",
       "4  document_parses/pdf_json/5f48792a5fa08bed9f560...   \n",
       "\n",
       "                               pmc_json_files  \n",
       "0  document_parses/pmc_json/PMC35282.xml.json  \n",
       "1  document_parses/pmc_json/PMC59543.xml.json  \n",
       "2  document_parses/pmc_json/PMC59549.xml.json  \n",
       "3  document_parses/pmc_json/PMC59574.xml.json  \n",
       "4  document_parses/pmc_json/PMC59580.xml.json  "
      ]
     },
     "execution_count": 9,
     "metadata": {},
     "output_type": "execute_result"
    }
   ],
   "source": [
    "meta2_df = prepare_metadata(METADATA_D2)\n",
    "meta2_df.head()"
   ]
  },
  {
   "cell_type": "code",
   "execution_count": 10,
   "metadata": {},
   "outputs": [
    {
     "data": {
      "text/plain": [
       "282640"
      ]
     },
     "execution_count": 10,
     "metadata": {},
     "output_type": "execute_result"
    }
   ],
   "source": [
    "len(meta2_df)"
   ]
  },
  {
   "cell_type": "markdown",
   "metadata": {},
   "source": [
    "## Deleted Items\n",
    "\n",
    "We will generate the deleted items and save it directly as a Parquet file for use by the post-processor later."
   ]
  },
  {
   "cell_type": "code",
   "execution_count": 11,
   "metadata": {},
   "outputs": [
    {
     "data": {
      "text/html": [
       "<div>\n",
       "<style scoped>\n",
       "    .dataframe tbody tr th:only-of-type {\n",
       "        vertical-align: middle;\n",
       "    }\n",
       "\n",
       "    .dataframe tbody tr th {\n",
       "        vertical-align: top;\n",
       "    }\n",
       "\n",
       "    .dataframe thead th {\n",
       "        text-align: right;\n",
       "    }\n",
       "</style>\n",
       "<table border=\"1\" class=\"dataframe\">\n",
       "  <thead>\n",
       "    <tr style=\"text-align: right;\">\n",
       "      <th></th>\n",
       "      <th>cord_uid</th>\n",
       "      <th>title</th>\n",
       "      <th>abstract</th>\n",
       "      <th>pdf_json_files</th>\n",
       "      <th>pmc_json_files</th>\n",
       "    </tr>\n",
       "  </thead>\n",
       "  <tbody>\n",
       "    <tr>\n",
       "      <th>4788</th>\n",
       "      <td>tr1dsqpg</td>\n",
       "      <td>Transvesical natural orifice transluminal endo...</td>\n",
       "      <td>UNLABELLED Study Type - Therapy (case series) ...</td>\n",
       "      <td>NaN</td>\n",
       "      <td>NaN</td>\n",
       "    </tr>\n",
       "    <tr>\n",
       "      <th>5072</th>\n",
       "      <td>tlfttlpj</td>\n",
       "      <td>Error in the Text.</td>\n",
       "      <td>NaN</td>\n",
       "      <td>NaN</td>\n",
       "      <td>NaN</td>\n",
       "    </tr>\n",
       "    <tr>\n",
       "      <th>5381</th>\n",
       "      <td>n08qtyyb</td>\n",
       "      <td>Cytoreductive surgery plus hyperthermic intrap...</td>\n",
       "      <td>BACKGROUND Advanced colorectal cancer (CRC) is...</td>\n",
       "      <td>NaN</td>\n",
       "      <td>NaN</td>\n",
       "    </tr>\n",
       "    <tr>\n",
       "      <th>5574</th>\n",
       "      <td>lwuk232v</td>\n",
       "      <td>Phenylalanine meta-hydroxylase: a single resid...</td>\n",
       "      <td>The rare non-proteinogenic amino acid, meta- L...</td>\n",
       "      <td>NaN</td>\n",
       "      <td>NaN</td>\n",
       "    </tr>\n",
       "    <tr>\n",
       "      <th>5703</th>\n",
       "      <td>b9ucv0n3</td>\n",
       "      <td>DC-SIGN and L-SIGN Are Attachment Factors That...</td>\n",
       "      <td>UNLABELLED It is well established that glycosa...</td>\n",
       "      <td>NaN</td>\n",
       "      <td>NaN</td>\n",
       "    </tr>\n",
       "  </tbody>\n",
       "</table>\n",
       "</div>"
      ],
      "text/plain": [
       "      cord_uid                                              title  \\\n",
       "4788  tr1dsqpg  Transvesical natural orifice transluminal endo...   \n",
       "5072  tlfttlpj                                 Error in the Text.   \n",
       "5381  n08qtyyb  Cytoreductive surgery plus hyperthermic intrap...   \n",
       "5574  lwuk232v  Phenylalanine meta-hydroxylase: a single resid...   \n",
       "5703  b9ucv0n3  DC-SIGN and L-SIGN Are Attachment Factors That...   \n",
       "\n",
       "                                               abstract pdf_json_files  \\\n",
       "4788  UNLABELLED Study Type - Therapy (case series) ...            NaN   \n",
       "5072                                                NaN            NaN   \n",
       "5381  BACKGROUND Advanced colorectal cancer (CRC) is...            NaN   \n",
       "5574  The rare non-proteinogenic amino acid, meta- L...            NaN   \n",
       "5703  UNLABELLED It is well established that glycosa...            NaN   \n",
       "\n",
       "     pmc_json_files  \n",
       "4788            NaN  \n",
       "5072            NaN  \n",
       "5381            NaN  \n",
       "5574            NaN  \n",
       "5703            NaN  "
      ]
     },
     "execution_count": 11,
     "metadata": {},
     "output_type": "execute_result"
    }
   ],
   "source": [
    "deleted_df = meta1_df.merge(meta2_df, \n",
    "                            how=\"left\",\n",
    "                            on=[\"cord_uid\"],\n",
    "                            suffixes=[\"_d1\", \"_d2\"])\n",
    "\n",
    "# remove deleted items (present in d1 but not in d2)\n",
    "deleted_df[\"rhs_is_null\"] = deleted_df.apply(\n",
    "    lambda row: detect_null(row.title_d2), axis=1, meta=(\"int\"))\n",
    "deleted_df = deleted_df[deleted_df.rhs_is_null == 1]\n",
    "\n",
    "# rename the _d1 columns\n",
    "new_cols = {x + \"_d1\": x for x in col_sublist[1:]}\n",
    "deleted_df = deleted_df.rename(columns=new_cols)\n",
    "\n",
    "# remove the _d2 columns\n",
    "deleted_df = deleted_df[col_sublist]\n",
    "\n",
    "deleted_df.head()"
   ]
  },
  {
   "cell_type": "code",
   "execution_count": 12,
   "metadata": {},
   "outputs": [
    {
     "data": {
      "text/plain": [
       "2162"
      ]
     },
     "execution_count": 12,
     "metadata": {},
     "output_type": "execute_result"
    }
   ],
   "source": [
    "len(deleted_df)"
   ]
  },
  {
   "cell_type": "markdown",
   "metadata": {},
   "source": [
    "## Added Items\n",
    "\n",
    "We will compute the added items, and then generate the paragraph dataframe from it using similar logic to `01x-load-and-parse.ipynb`."
   ]
  },
  {
   "cell_type": "code",
   "execution_count": 13,
   "metadata": {},
   "outputs": [
    {
     "data": {
      "text/html": [
       "<div>\n",
       "<style scoped>\n",
       "    .dataframe tbody tr th:only-of-type {\n",
       "        vertical-align: middle;\n",
       "    }\n",
       "\n",
       "    .dataframe tbody tr th {\n",
       "        vertical-align: top;\n",
       "    }\n",
       "\n",
       "    .dataframe thead th {\n",
       "        text-align: right;\n",
       "    }\n",
       "</style>\n",
       "<table border=\"1\" class=\"dataframe\">\n",
       "  <thead>\n",
       "    <tr style=\"text-align: right;\">\n",
       "      <th></th>\n",
       "      <th>cord_uid</th>\n",
       "      <th>title</th>\n",
       "      <th>abstract</th>\n",
       "      <th>pdf_json_files</th>\n",
       "      <th>pmc_json_files</th>\n",
       "    </tr>\n",
       "  </thead>\n",
       "  <tbody>\n",
       "    <tr>\n",
       "      <th>38507</th>\n",
       "      <td>5vdvp2y2</td>\n",
       "      <td>The top 100 most cited articles on bronchoscop...</td>\n",
       "      <td>BACKGROUND: Bronchoscopy is applied broadly in...</td>\n",
       "      <td>document_parses/pdf_json/7b3e2a13aad3b3b185689...</td>\n",
       "      <td>document_parses/pmc_json/PMC7450920.xml.json</td>\n",
       "    </tr>\n",
       "    <tr>\n",
       "      <th>38508</th>\n",
       "      <td>fh5tj8qr</td>\n",
       "      <td>Experience with Temporary Centrifugal Pump Bi-...</td>\n",
       "      <td>Though ventricular assist devices (VADs) are a...</td>\n",
       "      <td>document_parses/pdf_json/cf4862c0fda8f258eb918...</td>\n",
       "      <td>document_parses/pmc_json/PMC7451784.xml.json</td>\n",
       "    </tr>\n",
       "    <tr>\n",
       "      <th>38509</th>\n",
       "      <td>5fini4ud</td>\n",
       "      <td>Baricitinib: Impact on COVID-19 coagulopathy?</td>\n",
       "      <td>NaN</td>\n",
       "      <td>document_parses/pdf_json/882ae5379c1d79a98b3b2...</td>\n",
       "      <td>NaN</td>\n",
       "    </tr>\n",
       "    <tr>\n",
       "      <th>38510</th>\n",
       "      <td>95pp2qf8</td>\n",
       "      <td>Social marketing interventions to promote phys...</td>\n",
       "      <td>BACKGROUND: Falls are a significant source of ...</td>\n",
       "      <td>document_parses/pdf_json/7305eb5c4c054d14dd82b...</td>\n",
       "      <td>document_parses/pmc_json/PMC7456007.xml.json</td>\n",
       "    </tr>\n",
       "    <tr>\n",
       "      <th>38511</th>\n",
       "      <td>yu7eudq6</td>\n",
       "      <td>The Impact of Accidental Hypothermia on Mortal...</td>\n",
       "      <td>BACKGROUND: Accidental hypothermia is a known ...</td>\n",
       "      <td>document_parses/pdf_json/338d52f61d8b10f5f803c...</td>\n",
       "      <td>document_parses/pmc_json/PMC7454138.xml.json</td>\n",
       "    </tr>\n",
       "  </tbody>\n",
       "</table>\n",
       "</div>"
      ],
      "text/plain": [
       "       cord_uid                                              title  \\\n",
       "38507  5vdvp2y2  The top 100 most cited articles on bronchoscop...   \n",
       "38508  fh5tj8qr  Experience with Temporary Centrifugal Pump Bi-...   \n",
       "38509  5fini4ud      Baricitinib: Impact on COVID-19 coagulopathy?   \n",
       "38510  95pp2qf8  Social marketing interventions to promote phys...   \n",
       "38511  yu7eudq6  The Impact of Accidental Hypothermia on Mortal...   \n",
       "\n",
       "                                                abstract  \\\n",
       "38507  BACKGROUND: Bronchoscopy is applied broadly in...   \n",
       "38508  Though ventricular assist devices (VADs) are a...   \n",
       "38509                                                NaN   \n",
       "38510  BACKGROUND: Falls are a significant source of ...   \n",
       "38511  BACKGROUND: Accidental hypothermia is a known ...   \n",
       "\n",
       "                                          pdf_json_files  \\\n",
       "38507  document_parses/pdf_json/7b3e2a13aad3b3b185689...   \n",
       "38508  document_parses/pdf_json/cf4862c0fda8f258eb918...   \n",
       "38509  document_parses/pdf_json/882ae5379c1d79a98b3b2...   \n",
       "38510  document_parses/pdf_json/7305eb5c4c054d14dd82b...   \n",
       "38511  document_parses/pdf_json/338d52f61d8b10f5f803c...   \n",
       "\n",
       "                                     pmc_json_files  \n",
       "38507  document_parses/pmc_json/PMC7450920.xml.json  \n",
       "38508  document_parses/pmc_json/PMC7451784.xml.json  \n",
       "38509                                           NaN  \n",
       "38510  document_parses/pmc_json/PMC7456007.xml.json  \n",
       "38511  document_parses/pmc_json/PMC7454138.xml.json  "
      ]
     },
     "execution_count": 13,
     "metadata": {},
     "output_type": "execute_result"
    }
   ],
   "source": [
    "added_df = meta1_df.merge(meta2_df,\n",
    "                          how=\"right\",\n",
    "                          on=[\"cord_uid\"],\n",
    "                          suffixes=[\"_d1\", \"_d2\"])\n",
    "\n",
    "# remove added items (present in D2 but not in D1)\n",
    "added_df[\"lhs_is_null\"] = added_df.apply(\n",
    "    lambda row: detect_null(row.title_d1), axis=1, meta=(\"int\"))\n",
    "added_df = added_df[added_df.lhs_is_null == 1]\n",
    "\n",
    "# rename the _d2 columns\n",
    "new_cols = {x + \"_d2\": x for x in col_sublist[1:]}\n",
    "added_df = added_df.rename(columns=new_cols)\n",
    "\n",
    "# remove the _d1 columns\n",
    "added_df = added_df[col_sublist]\n",
    "\n",
    "added_df.head()"
   ]
  },
  {
   "cell_type": "code",
   "execution_count": 14,
   "metadata": {},
   "outputs": [
    {
     "data": {
      "text/plain": [
       "44536"
      ]
     },
     "execution_count": 14,
     "metadata": {},
     "output_type": "execute_result"
    }
   ],
   "source": [
    "len(added_df)"
   ]
  },
  {
   "cell_type": "code",
   "execution_count": 15,
   "metadata": {},
   "outputs": [
    {
     "data": {
      "text/plain": [
       "'s3://saturn-elsevierinc/incremental/deleted'"
      ]
     },
     "execution_count": 15,
     "metadata": {},
     "output_type": "execute_result"
    }
   ],
   "source": [
    "fs = s3fs.S3FileSystem()\n",
    "if fs.exists(DELETED_FOLDER):\n",
    "    fs.rm(DELETED_FOLDER, recursive=True)\n",
    "    \n",
    "DELETED_FOLDER"
   ]
  },
  {
   "cell_type": "code",
   "execution_count": 16,
   "metadata": {},
   "outputs": [
    {
     "name": "stdout",
     "output_type": "stream",
     "text": [
      "CPU times: user 102 ms, sys: 4.14 ms, total: 106 ms\n",
      "Wall time: 6.01 s\n"
     ]
    }
   ],
   "source": [
    "%%time\n",
    "deleted_df.to_parquet(DELETED_FOLDER, engine=\"pyarrow\", compression=\"snappy\")"
   ]
  },
  {
   "cell_type": "markdown",
   "metadata": {},
   "source": [
    "### Parse Additions to Added Paragraphs"
   ]
  },
  {
   "cell_type": "code",
   "execution_count": 17,
   "metadata": {},
   "outputs": [],
   "source": [
    "def read_fully(filepath, s3, bucket_name):\n",
    "    obj = s3.Object(bucket_name, filepath)\n",
    "    s = obj.get()['Body'].read().decode('utf-8')\n",
    "    return s\n",
    "\n",
    "\n",
    "def parse_paragraphs(rows, bucket_name):\n",
    "    worker = get_worker()\n",
    "#     try:\n",
    "#         s3 = worker.s3\n",
    "#     except:\n",
    "#         s3 = boto3.resource('s3')\n",
    "#         worker.s3 = s3\n",
    "    \n",
    "#     s3 = None\n",
    "#     while not s3:\n",
    "#         try:\n",
    "#             s3 = boto3.resource(\"s3\")\n",
    "#             worker.s3 = s3\n",
    "#         except:\n",
    "#             s3 = None\n",
    "\n",
    "    try:\n",
    "        s3 = worker.s3\n",
    "    except:\n",
    "        sess = boto3.session.Session()\n",
    "        s3 = sess.resource(\"s3\")\n",
    "        worker.s3 = s3\n",
    "\n",
    "    paragraphs = []\n",
    "    filepath = None\n",
    "    try:\n",
    "        if pd.notnull(rows.pdf_json_files):\n",
    "            filepath = rows.pdf_json_files\n",
    "        elif pd.notnull(rows.pmc_json_files):\n",
    "            filepath = rows.pmc_json_files\n",
    "        else:\n",
    "            pass\n",
    "        if filepath is not None:\n",
    "            abs_filepath = \"/\".join([D2, filepath])\n",
    "            fdict = json.loads(read_fully(abs_filepath, s3, bucket_name))\n",
    "            paragraphs.append((\"T\", fdict[\"metadata\"][\"title\"]))\n",
    "            paragraphs.extend([(\"A{:d}\".format(i), x[\"text\"]) \n",
    "                for i, x in enumerate(fdict[\"abstract\"])])\n",
    "            paragraphs.extend([(\"B{:d}\".format(i), x[\"text\"]) \n",
    "                for i, x in enumerate(fdict[\"body_text\"])])\n",
    "        else:\n",
    "            paragraphs.append((\"T\", rows[\"title\"]))\n",
    "            for i, abs_para_text in enumerate(rows[\"abstract\"].split('\\n')):\n",
    "                paragraphs.append((\"A{:d}\".format(i), abs_para_text))\n",
    "    except:\n",
    "        pass\n",
    "    return paragraphs\n"
   ]
  },
  {
   "cell_type": "code",
   "execution_count": 18,
   "metadata": {},
   "outputs": [],
   "source": [
    "paragraph_df = added_df.copy()"
   ]
  },
  {
   "cell_type": "code",
   "execution_count": 19,
   "metadata": {},
   "outputs": [],
   "source": [
    "paragraph_df = paragraph_df.repartition(npartitions=100)"
   ]
  },
  {
   "cell_type": "code",
   "execution_count": 20,
   "metadata": {},
   "outputs": [],
   "source": [
    "paragraph_df[\"paragraphs\"] = paragraph_df.apply(\n",
    "    lambda rows: parse_paragraphs(rows, BUCKET_NAME), meta=(\"object\"), axis=1)\n",
    "paragraph_df = paragraph_df.drop(columns=[\"title\", \"abstract\",\n",
    "                                          \"pdf_json_files\", \"pmc_json_files\"])\n",
    "paragraph_df = paragraph_df.explode(\"paragraphs\")\n",
    "paragraph_df = paragraph_df.dropna()\n",
    "paragraph_df[\"pid\"] = paragraph_df.apply(lambda rows: rows.paragraphs[0], \n",
    "                                         meta=(\"str\"), axis=1)\n",
    "paragraph_df[\"ptext\"] = paragraph_df.apply(lambda rows: rows.paragraphs[1], \n",
    "                                           meta=(\"str\"), axis=1)\n",
    "paragraph_df = paragraph_df.drop(columns=[\"paragraphs\"])"
   ]
  },
  {
   "cell_type": "code",
   "execution_count": 21,
   "metadata": {},
   "outputs": [
    {
     "data": {
      "text/plain": [
       "'s3://saturn-elsevierinc/incremental/added'"
      ]
     },
     "execution_count": 21,
     "metadata": {},
     "output_type": "execute_result"
    }
   ],
   "source": [
    "fs = s3fs.S3FileSystem()\n",
    "if fs.exists(ADDED_FOLDER):\n",
    "    fs.rm(ADDED_FOLDER, recursive=True)\n",
    "\n",
    "ADDED_FOLDER"
   ]
  },
  {
   "cell_type": "code",
   "execution_count": 22,
   "metadata": {},
   "outputs": [
    {
     "name": "stdout",
     "output_type": "stream",
     "text": [
      "CPU times: user 732 ms, sys: 16 µs, total: 732 ms\n",
      "Wall time: 11.2 s\n"
     ]
    }
   ],
   "source": [
    "%%time\n",
    "paragraph_df.to_parquet(ADDED_FOLDER, engine=\"pyarrow\", compression=\"snappy\")"
   ]
  },
  {
   "cell_type": "markdown",
   "metadata": {},
   "source": [
    "## Verify Result"
   ]
  },
  {
   "cell_type": "code",
   "execution_count": 23,
   "metadata": {},
   "outputs": [
    {
     "data": {
      "text/plain": [
       "'s3://saturn-elsevierinc/incremental/deleted'"
      ]
     },
     "execution_count": 23,
     "metadata": {},
     "output_type": "execute_result"
    }
   ],
   "source": [
    "DELETED_FOLDER"
   ]
  },
  {
   "cell_type": "code",
   "execution_count": 24,
   "metadata": {},
   "outputs": [
    {
     "data": {
      "text/html": [
       "<div>\n",
       "<style scoped>\n",
       "    .dataframe tbody tr th:only-of-type {\n",
       "        vertical-align: middle;\n",
       "    }\n",
       "\n",
       "    .dataframe tbody tr th {\n",
       "        vertical-align: top;\n",
       "    }\n",
       "\n",
       "    .dataframe thead th {\n",
       "        text-align: right;\n",
       "    }\n",
       "</style>\n",
       "<table border=\"1\" class=\"dataframe\">\n",
       "  <thead>\n",
       "    <tr style=\"text-align: right;\">\n",
       "      <th></th>\n",
       "      <th>cord_uid</th>\n",
       "      <th>title</th>\n",
       "      <th>abstract</th>\n",
       "      <th>pdf_json_files</th>\n",
       "      <th>pmc_json_files</th>\n",
       "    </tr>\n",
       "  </thead>\n",
       "  <tbody>\n",
       "    <tr>\n",
       "      <th>4788</th>\n",
       "      <td>tr1dsqpg</td>\n",
       "      <td>Transvesical natural orifice transluminal endo...</td>\n",
       "      <td>UNLABELLED Study Type - Therapy (case series) ...</td>\n",
       "      <td>None</td>\n",
       "      <td>None</td>\n",
       "    </tr>\n",
       "    <tr>\n",
       "      <th>5072</th>\n",
       "      <td>tlfttlpj</td>\n",
       "      <td>Error in the Text.</td>\n",
       "      <td>None</td>\n",
       "      <td>None</td>\n",
       "      <td>None</td>\n",
       "    </tr>\n",
       "    <tr>\n",
       "      <th>5381</th>\n",
       "      <td>n08qtyyb</td>\n",
       "      <td>Cytoreductive surgery plus hyperthermic intrap...</td>\n",
       "      <td>BACKGROUND Advanced colorectal cancer (CRC) is...</td>\n",
       "      <td>None</td>\n",
       "      <td>None</td>\n",
       "    </tr>\n",
       "    <tr>\n",
       "      <th>5574</th>\n",
       "      <td>lwuk232v</td>\n",
       "      <td>Phenylalanine meta-hydroxylase: a single resid...</td>\n",
       "      <td>The rare non-proteinogenic amino acid, meta- L...</td>\n",
       "      <td>None</td>\n",
       "      <td>None</td>\n",
       "    </tr>\n",
       "    <tr>\n",
       "      <th>5703</th>\n",
       "      <td>b9ucv0n3</td>\n",
       "      <td>DC-SIGN and L-SIGN Are Attachment Factors That...</td>\n",
       "      <td>UNLABELLED It is well established that glycosa...</td>\n",
       "      <td>None</td>\n",
       "      <td>None</td>\n",
       "    </tr>\n",
       "  </tbody>\n",
       "</table>\n",
       "</div>"
      ],
      "text/plain": [
       "      cord_uid                                              title  \\\n",
       "4788  tr1dsqpg  Transvesical natural orifice transluminal endo...   \n",
       "5072  tlfttlpj                                 Error in the Text.   \n",
       "5381  n08qtyyb  Cytoreductive surgery plus hyperthermic intrap...   \n",
       "5574  lwuk232v  Phenylalanine meta-hydroxylase: a single resid...   \n",
       "5703  b9ucv0n3  DC-SIGN and L-SIGN Are Attachment Factors That...   \n",
       "\n",
       "                                               abstract pdf_json_files  \\\n",
       "4788  UNLABELLED Study Type - Therapy (case series) ...           None   \n",
       "5072                                               None           None   \n",
       "5381  BACKGROUND Advanced colorectal cancer (CRC) is...           None   \n",
       "5574  The rare non-proteinogenic amino acid, meta- L...           None   \n",
       "5703  UNLABELLED It is well established that glycosa...           None   \n",
       "\n",
       "     pmc_json_files  \n",
       "4788           None  \n",
       "5072           None  \n",
       "5381           None  \n",
       "5574           None  \n",
       "5703           None  "
      ]
     },
     "execution_count": 24,
     "metadata": {},
     "output_type": "execute_result"
    }
   ],
   "source": [
    "v_deleted_df = dd.read_parquet(DELETED_FOLDER, engine=\"pyarrow\")\n",
    "v_deleted_df.head()"
   ]
  },
  {
   "cell_type": "code",
   "execution_count": 25,
   "metadata": {},
   "outputs": [
    {
     "data": {
      "text/plain": [
       "2162"
      ]
     },
     "execution_count": 25,
     "metadata": {},
     "output_type": "execute_result"
    }
   ],
   "source": [
    "len(v_deleted_df)"
   ]
  },
  {
   "cell_type": "code",
   "execution_count": 26,
   "metadata": {},
   "outputs": [
    {
     "data": {
      "text/html": [
       "<div>\n",
       "<style scoped>\n",
       "    .dataframe tbody tr th:only-of-type {\n",
       "        vertical-align: middle;\n",
       "    }\n",
       "\n",
       "    .dataframe tbody tr th {\n",
       "        vertical-align: top;\n",
       "    }\n",
       "\n",
       "    .dataframe thead th {\n",
       "        text-align: right;\n",
       "    }\n",
       "</style>\n",
       "<table border=\"1\" class=\"dataframe\">\n",
       "  <thead>\n",
       "    <tr style=\"text-align: right;\">\n",
       "      <th></th>\n",
       "      <th>cord_uid</th>\n",
       "      <th>pid</th>\n",
       "      <th>ptext</th>\n",
       "    </tr>\n",
       "  </thead>\n",
       "  <tbody>\n",
       "    <tr>\n",
       "      <th>38548</th>\n",
       "      <td>l2m8y422</td>\n",
       "      <td>T</td>\n",
       "      <td>Correction: Selective laser trabeculoplasty: p...</td>\n",
       "    </tr>\n",
       "    <tr>\n",
       "      <th>38563</th>\n",
       "      <td>kwby80nj</td>\n",
       "      <td>T</td>\n",
       "      <td>Publishing in the transfusion field: “Like a B...</td>\n",
       "    </tr>\n",
       "    <tr>\n",
       "      <th>38565</th>\n",
       "      <td>9vbwzi8v</td>\n",
       "      <td>T</td>\n",
       "      <td>Nachfrage nicht zu bremsen</td>\n",
       "    </tr>\n",
       "    <tr>\n",
       "      <th>38568</th>\n",
       "      <td>w6bnygac</td>\n",
       "      <td>T</td>\n",
       "      <td>Editor’s Focus</td>\n",
       "    </tr>\n",
       "    <tr>\n",
       "      <th>38572</th>\n",
       "      <td>k4bcmeke</td>\n",
       "      <td>T</td>\n",
       "      <td>Introduction to the September 2020 Special Iss...</td>\n",
       "    </tr>\n",
       "  </tbody>\n",
       "</table>\n",
       "</div>"
      ],
      "text/plain": [
       "       cord_uid pid                                              ptext\n",
       "38548  l2m8y422   T  Correction: Selective laser trabeculoplasty: p...\n",
       "38563  kwby80nj   T  Publishing in the transfusion field: “Like a B...\n",
       "38565  9vbwzi8v   T                         Nachfrage nicht zu bremsen\n",
       "38568  w6bnygac   T                                     Editor’s Focus\n",
       "38572  k4bcmeke   T  Introduction to the September 2020 Special Iss..."
      ]
     },
     "execution_count": 26,
     "metadata": {},
     "output_type": "execute_result"
    }
   ],
   "source": [
    "v_added_df = dd.read_parquet(ADDED_FOLDER, engine=\"pyarrow\")\n",
    "v_added_df.head()"
   ]
  },
  {
   "cell_type": "code",
   "execution_count": 27,
   "metadata": {},
   "outputs": [
    {
     "data": {
      "text/plain": [
       "58621"
      ]
     },
     "execution_count": 27,
     "metadata": {},
     "output_type": "execute_result"
    }
   ],
   "source": [
    "len(v_added_df)"
   ]
  },
  {
   "cell_type": "markdown",
   "metadata": {},
   "source": [
    "## Shut down Cluster"
   ]
  },
  {
   "cell_type": "code",
   "execution_count": 28,
   "metadata": {},
   "outputs": [
    {
     "name": "stderr",
     "output_type": "stream",
     "text": [
      "distributed.client - ERROR - Failed to reconnect to scheduler after 10.00 seconds, closing client\n",
      "_GatheringFuture exception was never retrieved\n",
      "future: <_GatheringFuture finished exception=CancelledError()>\n",
      "concurrent.futures._base.CancelledError\n"
     ]
    }
   ],
   "source": [
    "# do this if youre done using the cluster\n",
    "# cluster.close()"
   ]
  },
  {
   "cell_type": "code",
   "execution_count": null,
   "metadata": {},
   "outputs": [],
   "source": []
  }
 ],
 "metadata": {
  "kernelspec": {
   "display_name": "Python 3",
   "language": "python",
   "name": "python3"
  },
  "language_info": {
   "codemirror_mode": {
    "name": "ipython",
    "version": 3
   },
   "file_extension": ".py",
   "mimetype": "text/x-python",
   "name": "python",
   "nbconvert_exporter": "python",
   "pygments_lexer": "ipython3",
   "version": "3.7.5"
  }
 },
 "nbformat": 4,
 "nbformat_minor": 4
}
