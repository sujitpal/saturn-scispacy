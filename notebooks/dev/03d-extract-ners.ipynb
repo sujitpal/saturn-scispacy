{
 "cells": [
  {
   "cell_type": "markdown",
   "metadata": {},
   "source": [
    "# Entity Extraction from old-style SciSpacy NER Models\n",
    "\n",
    "These models identify the entity span in an input sentence, but don't attempt to separately link to an external taxonomy. The following variations are possible here. Replace the `MODEL_NAME, MODEL_ALIAS` line in the cell below and repeat run to extract named entity information from the chosen model.\n",
    "\n",
    "We can run this notebook with different values of `MODEL_NAME` and `MODEL_ALIAS` to create different entity dumps from each model."
   ]
  },
  {
   "cell_type": "code",
   "execution_count": 1,
   "metadata": {},
   "outputs": [],
   "source": [
    "import dask.dataframe as dd\n",
    "import json\n",
    "import numpy as np\n",
    "import pandas as pd\n",
    "import s3fs\n",
    "import spacy\n",
    "import scispacy\n",
    "\n",
    "from dask.distributed import Client, progress, get_worker"
   ]
  },
  {
   "cell_type": "code",
   "execution_count": 2,
   "metadata": {},
   "outputs": [],
   "source": [
    "# MODEL_NAME, MODEL_ALIAS = \"en_ner_craft_md\", \"craft\"\n",
    "# MODEL_NAME, MODEL_ALIAS = \"en_ner_jnlpba_md\", \"jnlpba\"\n",
    "# MODEL_NAME, MODEL_ALIAS = \"en_ner_bc5cdr_md\", \"bc5cdr\"\n",
    "MODEL_NAME, MODEL_ALIAS = \"en_ner_bionlp13cg_md\", \"bionlp\""
   ]
  },
  {
   "cell_type": "code",
   "execution_count": 3,
   "metadata": {},
   "outputs": [],
   "source": [
    "BUCKET_NAME = \"saturn-elsevierinc\"\n",
    "\n",
    "SENTENCE_FOLDER = \"/\".join([\"s3:/\", BUCKET_NAME, \"cord19-sents-pq-sm\"])\n",
    "ENTITIES_FOLDER = \"/\".join([\"s3:/\", BUCKET_NAME, \n",
    "                            \"cord19-ents-{:s}-pq-sm\".format(MODEL_ALIAS)])"
   ]
  },
  {
   "cell_type": "code",
   "execution_count": 4,
   "metadata": {},
   "outputs": [
    {
     "data": {
      "text/html": [
       "<div>\n",
       "<style scoped>\n",
       "    .dataframe tbody tr th:only-of-type {\n",
       "        vertical-align: middle;\n",
       "    }\n",
       "\n",
       "    .dataframe tbody tr th {\n",
       "        vertical-align: top;\n",
       "    }\n",
       "\n",
       "    .dataframe thead th {\n",
       "        text-align: right;\n",
       "    }\n",
       "</style>\n",
       "<table border=\"1\" class=\"dataframe\">\n",
       "  <thead>\n",
       "    <tr style=\"text-align: right;\">\n",
       "      <th></th>\n",
       "      <th>cord_uid</th>\n",
       "      <th>pid</th>\n",
       "      <th>sid</th>\n",
       "      <th>stext</th>\n",
       "    </tr>\n",
       "  </thead>\n",
       "  <tbody>\n",
       "    <tr>\n",
       "      <th>6498</th>\n",
       "      <td>sz7qmi8q</td>\n",
       "      <td>A0</td>\n",
       "      <td>0</td>\n",
       "      <td>Schwer punkt: Lun gen-und Pleura pa tho lo gie...</td>\n",
       "    </tr>\n",
       "    <tr>\n",
       "      <th>6498</th>\n",
       "      <td>sz7qmi8q</td>\n",
       "      <td>A0</td>\n",
       "      <td>1</td>\n",
       "      <td>für Pa tho lo gie der Ruhr-Uni ver si tät Bo c...</td>\n",
       "    </tr>\n",
       "    <tr>\n",
       "      <th>6498</th>\n",
       "      <td>sz7qmi8q</td>\n",
       "      <td>A0</td>\n",
       "      <td>2</td>\n",
       "      <td>fi ka ti on der Er kran kun gen des pul mo</td>\n",
       "    </tr>\n",
       "    <tr>\n",
       "      <th>6498</th>\n",
       "      <td>sz7qmi8q</td>\n",
       "      <td>A0</td>\n",
       "      <td>3</td>\n",
       "      <td>na len Sur fac tant-Sys tems TYP I TYP II TYP ...</td>\n",
       "    </tr>\n",
       "    <tr>\n",
       "      <th>6498</th>\n",
       "      <td>sz7qmi8q</td>\n",
       "      <td>A0</td>\n",
       "      <td>4</td>\n",
       "      <td>re nenund Säug lings al ter Neu ge bo</td>\n",
       "    </tr>\n",
       "  </tbody>\n",
       "</table>\n",
       "</div>"
      ],
      "text/plain": [
       "      cord_uid pid  sid                                              stext\n",
       "6498  sz7qmi8q  A0    0  Schwer punkt: Lun gen-und Pleura pa tho lo gie...\n",
       "6498  sz7qmi8q  A0    1  für Pa tho lo gie der Ruhr-Uni ver si tät Bo c...\n",
       "6498  sz7qmi8q  A0    2         fi ka ti on der Er kran kun gen des pul mo\n",
       "6498  sz7qmi8q  A0    3  na len Sur fac tant-Sys tems TYP I TYP II TYP ...\n",
       "6498  sz7qmi8q  A0    4              re nenund Säug lings al ter Neu ge bo"
      ]
     },
     "execution_count": 4,
     "metadata": {},
     "output_type": "execute_result"
    }
   ],
   "source": [
    "sentences_df = dd.read_parquet(SENTENCE_FOLDER, engine=\"pyarrow\")\n",
    "sentences_df.head(npartitions=10)"
   ]
  },
  {
   "cell_type": "code",
   "execution_count": 5,
   "metadata": {},
   "outputs": [
    {
     "data": {
      "text/plain": [
       "7313"
      ]
     },
     "execution_count": 5,
     "metadata": {},
     "output_type": "execute_result"
    }
   ],
   "source": [
    "len(sentences_df)"
   ]
  },
  {
   "cell_type": "markdown",
   "metadata": {},
   "source": [
    "## Processing"
   ]
  },
  {
   "cell_type": "code",
   "execution_count": 6,
   "metadata": {},
   "outputs": [
    {
     "name": "stderr",
     "output_type": "stream",
     "text": [
      "/opt/conda/envs/saturn/lib/python3.7/site-packages/distributed/node.py:155: UserWarning: Port 8787 is already in use.\n",
      "Perhaps you already have a cluster running?\n",
      "Hosting the HTTP server on port 34611 instead\n",
      "  http_address[\"port\"], self.http_server.port\n"
     ]
    },
    {
     "data": {
      "text/html": [
       "<table style=\"border: 2px solid white;\">\n",
       "<tr>\n",
       "<td style=\"vertical-align: top; border: 0px solid white\">\n",
       "<h3 style=\"text-align: left;\">Client</h3>\n",
       "<ul style=\"text-align: left; list-style: none; margin: 0; padding: 0;\">\n",
       "  <li><b>Scheduler: </b>inproc://10.0.4.79/173/1</li>\n",
       "  <li><b>Dashboard: </b><a href='http://10.0.4.79:34611/status' target='_blank'>http://10.0.4.79:34611/status</a></li>\n",
       "</ul>\n",
       "</td>\n",
       "<td style=\"vertical-align: top; border: 0px solid white\">\n",
       "<h3 style=\"text-align: left;\">Cluster</h3>\n",
       "<ul style=\"text-align: left; list-style:none; margin: 0; padding: 0;\">\n",
       "  <li><b>Workers: </b>2</li>\n",
       "  <li><b>Cores: </b>2</li>\n",
       "  <li><b>Memory: </b>16.25 GB</li>\n",
       "</ul>\n",
       "</td>\n",
       "</tr>\n",
       "</table>"
      ],
      "text/plain": [
       "<Client: 'inproc://10.0.4.79/173/1' processes=2 threads=2, memory=16.25 GB>"
      ]
     },
     "execution_count": 6,
     "metadata": {},
     "output_type": "execute_result"
    }
   ],
   "source": [
    "client = Client(processes=False, n_workers=2, threads_per_worker=1)\n",
    "client\n",
    "\n",
    "# from dask.distributed import Client\n",
    "# from dask_saturn import SaturnCluster\n",
    "\n",
    "# cluster = SaturnCluster(n_workers=20)\n",
    "# client = Client(cluster)"
   ]
  },
  {
   "cell_type": "code",
   "execution_count": 7,
   "metadata": {},
   "outputs": [],
   "source": [
    "def handle_batch(sents, nlp, ent_class):\n",
    "    docs = nlp.pipe(sents, n_threads=16, batch_size=len(sents))\n",
    "    ents_list = []\n",
    "    for doc in docs:\n",
    "        ents = []\n",
    "        for eid, ent in enumerate(doc.ents):\n",
    "            ents.append((eid, ent_class, ent.text, ent.label_, \n",
    "                         1.0, ent.start_char, ent.end_char))\n",
    "        ents_list.append(ents)\n",
    "    return ents_list\n",
    "\n",
    "\n",
    "def handle_partition(part):\n",
    "    worker = get_worker()\n",
    "    try:\n",
    "        nlp = worker.nlp\n",
    "    except:\n",
    "        nlp = spacy.load(MODEL_NAME)\n",
    "        worker.nlp = nlp\n",
    "    batch_size = 32\n",
    "    sent_batch, ent_batch, entities = [], [], []\n",
    "    for _, row in part.iterrows():\n",
    "        if len(sent_batch) % batch_size == 0 and len(sent_batch) > 0:\n",
    "            ent_batch = handle_batch(sent_batch, nlp, MODEL_ALIAS)\n",
    "            entities.extend(ent_batch)\n",
    "            sent_batch = []\n",
    "        try:\n",
    "            sent_batch.append(row.stext)\n",
    "        except ValueError:\n",
    "            continue\n",
    "    if len(sent_batch) > 0:\n",
    "        ent_batch = handle_batch(sent_batch, nlp, MODEL_ALIAS)\n",
    "        entities.extend(ent_batch)\n",
    "    return entities"
   ]
  },
  {
   "cell_type": "code",
   "execution_count": 8,
   "metadata": {},
   "outputs": [],
   "source": [
    "entities_df = sentences_df.copy()"
   ]
  },
  {
   "cell_type": "code",
   "execution_count": 9,
   "metadata": {},
   "outputs": [],
   "source": [
    "entities_df[\"entities\"] = entities_df.map_partitions(\n",
    "    lambda part: handle_partition(part), meta=(\"object\"))\n",
    "entities_df = entities_df.drop(columns=[\"stext\"])\n",
    "entities_df = entities_df.explode(\"entities\")\n",
    "entities_df = entities_df.dropna()\n",
    "\n",
    "entities_df[\"eid\"] = entities_df.apply(\n",
    "    lambda row: row.entities[0], meta=(\"int\"), axis=1)\n",
    "entities_df[\"eclass\"] = entities_df.apply(\n",
    "    lambda row: row.entities[1], meta=(\"str\"), axis=1)\n",
    "entities_df[\"etext\"] = entities_df.apply(\n",
    "    lambda row: row.entities[2], meta=(\"str\"), axis=1)\n",
    "entities_df[\"elabel\"] = entities_df.apply(\n",
    "    lambda row: row.entities[3], meta=(\"str\"), axis=1)\n",
    "entities_df[\"escore\"] = entities_df.apply(\n",
    "    lambda row: row.entities[4], meta=(\"float\"), axis=1)\n",
    "entities_df[\"ent_start_char\"] = entities_df.apply(\n",
    "    lambda row: row.entities[5], meta=(\"int\"), axis=1)\n",
    "entities_df[\"ent_end_char\"] = entities_df.apply(\n",
    "    lambda row: row.entities[6], meta=(\"int\"), axis=1)\n",
    "\n",
    "entities_df = entities_df.drop(columns=[\"entities\"])"
   ]
  },
  {
   "cell_type": "code",
   "execution_count": 10,
   "metadata": {},
   "outputs": [],
   "source": [
    "entities_df.cord_uid = entities_df.cord_uid.astype(str)\n",
    "entities_df.pid = entities_df.pid.astype(str)\n",
    "entities_df.sid = entities_df.sid.astype(np.int32)\n",
    "entities_df.eid = entities_df.eid.astype(np.int32)\n",
    "entities_df.eclass = entities_df.eclass.astype(str)\n",
    "entities_df.etext = entities_df.etext.astype(str)\n",
    "entities_df.elabel = entities_df.elabel.astype(str)\n",
    "entities_df.escore = entities_df.escore.astype(np.float32)\n",
    "entities_df.ent_start_char = entities_df.ent_start_char.astype(np.int32)\n",
    "entities_df.ent_end_char = entities_df.ent_end_char.astype(np.int32)"
   ]
  },
  {
   "cell_type": "code",
   "execution_count": 11,
   "metadata": {},
   "outputs": [],
   "source": [
    "fs = s3fs.S3FileSystem()\n",
    "if fs.exists(ENTITIES_FOLDER):\n",
    "    fs.rm(ENTITIES_FOLDER, recursive=True)"
   ]
  },
  {
   "cell_type": "code",
   "execution_count": 12,
   "metadata": {},
   "outputs": [],
   "source": [
    "entities_df.to_parquet(ENTITIES_FOLDER, engine=\"pyarrow\", compression=\"snappy\")"
   ]
  },
  {
   "cell_type": "markdown",
   "metadata": {},
   "source": [
    "## Verify Result"
   ]
  },
  {
   "cell_type": "code",
   "execution_count": 13,
   "metadata": {
    "scrolled": true
   },
   "outputs": [
    {
     "data": {
      "text/html": [
       "<div>\n",
       "<style scoped>\n",
       "    .dataframe tbody tr th:only-of-type {\n",
       "        vertical-align: middle;\n",
       "    }\n",
       "\n",
       "    .dataframe tbody tr th {\n",
       "        vertical-align: top;\n",
       "    }\n",
       "\n",
       "    .dataframe thead th {\n",
       "        text-align: right;\n",
       "    }\n",
       "</style>\n",
       "<table border=\"1\" class=\"dataframe\">\n",
       "  <thead>\n",
       "    <tr style=\"text-align: right;\">\n",
       "      <th></th>\n",
       "      <th>cord_uid</th>\n",
       "      <th>pid</th>\n",
       "      <th>sid</th>\n",
       "      <th>eid</th>\n",
       "      <th>eclass</th>\n",
       "      <th>etext</th>\n",
       "      <th>elabel</th>\n",
       "      <th>escore</th>\n",
       "      <th>ent_start_char</th>\n",
       "      <th>ent_end_char</th>\n",
       "    </tr>\n",
       "  </thead>\n",
       "  <tbody>\n",
       "    <tr>\n",
       "      <th>6498</th>\n",
       "      <td>sz7qmi8q</td>\n",
       "      <td>A0</td>\n",
       "      <td>0</td>\n",
       "      <td>0</td>\n",
       "      <td>bionlp</td>\n",
       "      <td>F.</td>\n",
       "      <td>ORGAN</td>\n",
       "      <td>1.0</td>\n",
       "      <td>59</td>\n",
       "      <td>61</td>\n",
       "    </tr>\n",
       "    <tr>\n",
       "      <th>6498</th>\n",
       "      <td>sz7qmi8q</td>\n",
       "      <td>A0</td>\n",
       "      <td>0</td>\n",
       "      <td>1</td>\n",
       "      <td>bionlp</td>\n",
       "      <td>sti</td>\n",
       "      <td>GENE_OR_GENE_PRODUCT</td>\n",
       "      <td>1.0</td>\n",
       "      <td>72</td>\n",
       "      <td>75</td>\n",
       "    </tr>\n",
       "    <tr>\n",
       "      <th>6498</th>\n",
       "      <td>sz7qmi8q</td>\n",
       "      <td>A0</td>\n",
       "      <td>1</td>\n",
       "      <td>0</td>\n",
       "      <td>bionlp</td>\n",
       "      <td>Ruhr-Uni</td>\n",
       "      <td>GENE_OR_GENE_PRODUCT</td>\n",
       "      <td>1.0</td>\n",
       "      <td>22</td>\n",
       "      <td>30</td>\n",
       "    </tr>\n",
       "    <tr>\n",
       "      <th>6498</th>\n",
       "      <td>sz7qmi8q</td>\n",
       "      <td>A0</td>\n",
       "      <td>1</td>\n",
       "      <td>1</td>\n",
       "      <td>bionlp</td>\n",
       "      <td>Be rufs ge nos sen schaft li chen Kli ni ken</td>\n",
       "      <td>GENE_OR_GENE_PRODUCT</td>\n",
       "      <td>1.0</td>\n",
       "      <td>51</td>\n",
       "      <td>95</td>\n",
       "    </tr>\n",
       "    <tr>\n",
       "      <th>6498</th>\n",
       "      <td>sz7qmi8q</td>\n",
       "      <td>A0</td>\n",
       "      <td>1</td>\n",
       "      <td>2</td>\n",
       "      <td>bionlp</td>\n",
       "      <td>Klas</td>\n",
       "      <td>GENE_OR_GENE_PRODUCT</td>\n",
       "      <td>1.0</td>\n",
       "      <td>156</td>\n",
       "      <td>160</td>\n",
       "    </tr>\n",
       "  </tbody>\n",
       "</table>\n",
       "</div>"
      ],
      "text/plain": [
       "      cord_uid pid  sid  eid  eclass  \\\n",
       "6498  sz7qmi8q  A0    0    0  bionlp   \n",
       "6498  sz7qmi8q  A0    0    1  bionlp   \n",
       "6498  sz7qmi8q  A0    1    0  bionlp   \n",
       "6498  sz7qmi8q  A0    1    1  bionlp   \n",
       "6498  sz7qmi8q  A0    1    2  bionlp   \n",
       "\n",
       "                                             etext                elabel  \\\n",
       "6498                                            F.                 ORGAN   \n",
       "6498                                           sti  GENE_OR_GENE_PRODUCT   \n",
       "6498                                      Ruhr-Uni  GENE_OR_GENE_PRODUCT   \n",
       "6498  Be rufs ge nos sen schaft li chen Kli ni ken  GENE_OR_GENE_PRODUCT   \n",
       "6498                                          Klas  GENE_OR_GENE_PRODUCT   \n",
       "\n",
       "      escore  ent_start_char  ent_end_char  \n",
       "6498     1.0              59            61  \n",
       "6498     1.0              72            75  \n",
       "6498     1.0              22            30  \n",
       "6498     1.0              51            95  \n",
       "6498     1.0             156           160  "
      ]
     },
     "execution_count": 13,
     "metadata": {},
     "output_type": "execute_result"
    }
   ],
   "source": [
    "entities_df = dd.read_parquet(ENTITIES_FOLDER, engine=\"pyarrow\")\n",
    "entities_df.head(npartitions=10)"
   ]
  },
  {
   "cell_type": "code",
   "execution_count": 14,
   "metadata": {},
   "outputs": [
    {
     "data": {
      "text/plain": [
       "10701"
      ]
     },
     "execution_count": 14,
     "metadata": {},
     "output_type": "execute_result"
    }
   ],
   "source": [
    "len(entities_df)"
   ]
  }
 ],
 "metadata": {
  "kernelspec": {
   "display_name": "Python 3",
   "language": "python",
   "name": "python3"
  },
  "language_info": {
   "codemirror_mode": {
    "name": "ipython",
    "version": 3
   },
   "file_extension": ".py",
   "mimetype": "text/x-python",
   "name": "python",
   "nbconvert_exporter": "python",
   "pygments_lexer": "ipython3",
   "version": "3.7.5"
  }
 },
 "nbformat": 4,
 "nbformat_minor": 4
}
