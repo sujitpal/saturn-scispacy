{
 "cells": [
  {
   "cell_type": "markdown",
   "metadata": {},
   "source": [
    "# Entity Extraction+Linking using modern SciSpaCy models"
   ]
  },
  {
   "cell_type": "code",
   "execution_count": 1,
   "metadata": {},
   "outputs": [],
   "source": [
    "import dask.dataframe as dd\n",
    "import json\n",
    "import numpy as np\n",
    "import pandas as pd\n",
    "import s3fs\n",
    "import spacy\n",
    "import scispacy\n",
    "\n",
    "from dask.distributed import Client, progress, get_worker\n",
    "\n",
    "from scispacy.abbreviation import AbbreviationDetector\n",
    "from scispacy.linking import EntityLinker"
   ]
  },
  {
   "cell_type": "code",
   "execution_count": 2,
   "metadata": {},
   "outputs": [],
   "source": [
    "# MODEL_KB = \"umls\"\n",
    "# MODEL_KB = \"mesh\"\n",
    "# MODEL_KB = \"go\"\n",
    "MODEL_KB = \"hpo\"\n",
    "# MODEL_KB = \"rxnorm\""
   ]
  },
  {
   "cell_type": "code",
   "execution_count": 3,
   "metadata": {},
   "outputs": [],
   "source": [
    "BUCKET_NAME = \"saturn-elsevierinc\"\n",
    "\n",
    "SENTENCE_FOLDER = \"/\".join([\"s3:/\", BUCKET_NAME, \"cord19-sents-pq-sm\"])\n",
    "ENTITIES_FOLDER = \"/\".join([\"s3:/\", BUCKET_NAME, \n",
    "                            \"cord19-ents-{:s}-pq-sm\".format(MODEL_KB)])"
   ]
  },
  {
   "cell_type": "code",
   "execution_count": 4,
   "metadata": {},
   "outputs": [
    {
     "data": {
      "text/html": [
       "<div>\n",
       "<style scoped>\n",
       "    .dataframe tbody tr th:only-of-type {\n",
       "        vertical-align: middle;\n",
       "    }\n",
       "\n",
       "    .dataframe tbody tr th {\n",
       "        vertical-align: top;\n",
       "    }\n",
       "\n",
       "    .dataframe thead th {\n",
       "        text-align: right;\n",
       "    }\n",
       "</style>\n",
       "<table border=\"1\" class=\"dataframe\">\n",
       "  <thead>\n",
       "    <tr style=\"text-align: right;\">\n",
       "      <th></th>\n",
       "      <th>cord_uid</th>\n",
       "      <th>pid</th>\n",
       "      <th>sid</th>\n",
       "      <th>stext</th>\n",
       "    </tr>\n",
       "  </thead>\n",
       "  <tbody>\n",
       "    <tr>\n",
       "      <th>6498</th>\n",
       "      <td>sz7qmi8q</td>\n",
       "      <td>A0</td>\n",
       "      <td>0</td>\n",
       "      <td>Schwer punkt: Lun gen-und Pleura pa tho lo gie...</td>\n",
       "    </tr>\n",
       "    <tr>\n",
       "      <th>6498</th>\n",
       "      <td>sz7qmi8q</td>\n",
       "      <td>A0</td>\n",
       "      <td>1</td>\n",
       "      <td>für Pa tho lo gie der Ruhr-Uni ver si tät Bo c...</td>\n",
       "    </tr>\n",
       "    <tr>\n",
       "      <th>6498</th>\n",
       "      <td>sz7qmi8q</td>\n",
       "      <td>A0</td>\n",
       "      <td>2</td>\n",
       "      <td>fi ka ti on der Er kran kun gen des pul mo</td>\n",
       "    </tr>\n",
       "    <tr>\n",
       "      <th>6498</th>\n",
       "      <td>sz7qmi8q</td>\n",
       "      <td>A0</td>\n",
       "      <td>3</td>\n",
       "      <td>na len Sur fac tant-Sys tems TYP I TYP II TYP ...</td>\n",
       "    </tr>\n",
       "    <tr>\n",
       "      <th>6498</th>\n",
       "      <td>sz7qmi8q</td>\n",
       "      <td>A0</td>\n",
       "      <td>4</td>\n",
       "      <td>re nenund Säug lings al ter Neu ge bo</td>\n",
       "    </tr>\n",
       "  </tbody>\n",
       "</table>\n",
       "</div>"
      ],
      "text/plain": [
       "      cord_uid pid  sid                                              stext\n",
       "6498  sz7qmi8q  A0    0  Schwer punkt: Lun gen-und Pleura pa tho lo gie...\n",
       "6498  sz7qmi8q  A0    1  für Pa tho lo gie der Ruhr-Uni ver si tät Bo c...\n",
       "6498  sz7qmi8q  A0    2         fi ka ti on der Er kran kun gen des pul mo\n",
       "6498  sz7qmi8q  A0    3  na len Sur fac tant-Sys tems TYP I TYP II TYP ...\n",
       "6498  sz7qmi8q  A0    4              re nenund Säug lings al ter Neu ge bo"
      ]
     },
     "execution_count": 4,
     "metadata": {},
     "output_type": "execute_result"
    }
   ],
   "source": [
    "sentences_df = dd.read_parquet(SENTENCE_FOLDER, engine=\"pyarrow\")\n",
    "sentences_df.head(npartitions=10)"
   ]
  },
  {
   "cell_type": "code",
   "execution_count": 5,
   "metadata": {},
   "outputs": [
    {
     "data": {
      "text/plain": [
       "7313"
      ]
     },
     "execution_count": 5,
     "metadata": {},
     "output_type": "execute_result"
    }
   ],
   "source": [
    "len(sentences_df)"
   ]
  },
  {
   "cell_type": "markdown",
   "metadata": {},
   "source": [
    "## Processing"
   ]
  },
  {
   "cell_type": "code",
   "execution_count": 6,
   "metadata": {},
   "outputs": [
    {
     "name": "stderr",
     "output_type": "stream",
     "text": [
      "/opt/conda/envs/saturn/lib/python3.7/site-packages/distributed/node.py:155: UserWarning: Port 8787 is already in use.\n",
      "Perhaps you already have a cluster running?\n",
      "Hosting the HTTP server on port 46529 instead\n",
      "  http_address[\"port\"], self.http_server.port\n"
     ]
    },
    {
     "data": {
      "text/html": [
       "<table style=\"border: 2px solid white;\">\n",
       "<tr>\n",
       "<td style=\"vertical-align: top; border: 0px solid white\">\n",
       "<h3 style=\"text-align: left;\">Client</h3>\n",
       "<ul style=\"text-align: left; list-style: none; margin: 0; padding: 0;\">\n",
       "  <li><b>Scheduler: </b>inproc://10.0.31.96/27879/1</li>\n",
       "  <li><b>Dashboard: </b><a href='http://10.0.31.96:46529/status' target='_blank'>http://10.0.31.96:46529/status</a></li>\n",
       "</ul>\n",
       "</td>\n",
       "<td style=\"vertical-align: top; border: 0px solid white\">\n",
       "<h3 style=\"text-align: left;\">Cluster</h3>\n",
       "<ul style=\"text-align: left; list-style:none; margin: 0; padding: 0;\">\n",
       "  <li><b>Workers: </b>1</li>\n",
       "  <li><b>Cores: </b>1</li>\n",
       "  <li><b>Memory: </b>16.25 GB</li>\n",
       "</ul>\n",
       "</td>\n",
       "</tr>\n",
       "</table>"
      ],
      "text/plain": [
       "<Client: 'inproc://10.0.31.96/27879/1' processes=1 threads=1, memory=16.25 GB>"
      ]
     },
     "execution_count": 6,
     "metadata": {},
     "output_type": "execute_result"
    }
   ],
   "source": [
    "client = Client(processes=False, n_workers=1, threads_per_worker=1)\n",
    "client"
   ]
  },
  {
   "cell_type": "code",
   "execution_count": 7,
   "metadata": {},
   "outputs": [
    {
     "name": "stderr",
     "output_type": "stream",
     "text": [
      "/opt/conda/envs/saturn/lib/python3.7/site-packages/sklearn/base.py:334: UserWarning: Trying to unpickle estimator TfidfTransformer from version 0.22.2.post1 when using version 0.23.2. This might lead to breaking code or invalid results. Use at your own risk.\n",
      "  UserWarning)\n",
      "/opt/conda/envs/saturn/lib/python3.7/site-packages/sklearn/base.py:334: UserWarning: Trying to unpickle estimator TfidfVectorizer from version 0.22.2.post1 when using version 0.23.2. This might lead to breaking code or invalid results. Use at your own risk.\n",
      "  UserWarning)\n"
     ]
    },
    {
     "name": "stdout",
     "output_type": "stream",
     "text": [
      "CPU times: user 8.2 s, sys: 593 ms, total: 8.79 s\n",
      "Wall time: 9.93 s\n"
     ]
    },
    {
     "data": {
      "text/plain": [
       "{'inproc://10.0.31.96/27879/3': 0}"
      ]
     },
     "execution_count": 7,
     "metadata": {},
     "output_type": "execute_result"
    }
   ],
   "source": [
    "def build_nlp_pipeline(model_kb):\n",
    "    nlp = spacy.load(\"en_core_sci_md\")\n",
    "    \n",
    "    abbr_detector = AbbreviationDetector(nlp)\n",
    "    nlp.add_pipe(abbr_detector)\n",
    "    \n",
    "    linker = EntityLinker(resolve_abbreviations=True,\n",
    "                          filter_for_definitions=False,\n",
    "                          name=model_kb)\n",
    "    nlp.add_pipe(linker)\n",
    "    \n",
    "    return nlp\n",
    "\n",
    "\n",
    "def nlp_workers():\n",
    "    import traceback\n",
    "    try:\n",
    "        worker = get_worker()\n",
    "        nlp = build_nlp_pipeline(MODEL_KB)\n",
    "        worker.nlp = nlp\n",
    "    except:\n",
    "        return traceback.format_exc()\n",
    "    return 0\n",
    "\n",
    "\n",
    "def check_nlp_workers():\n",
    "    worker = get_worker()\n",
    "    return str(worker.nlp)\n",
    "\n",
    "\n",
    "%time client.run(nlp_workers)"
   ]
  },
  {
   "cell_type": "code",
   "execution_count": 8,
   "metadata": {},
   "outputs": [
    {
     "data": {
      "text/plain": [
       "{'inproc://10.0.31.96/27879/3': '<spacy.lang.en.English object at 0x7f331d977110>'}"
      ]
     },
     "execution_count": 8,
     "metadata": {},
     "output_type": "execute_result"
    }
   ],
   "source": [
    "client.run(check_nlp_workers)"
   ]
  },
  {
   "cell_type": "code",
   "execution_count": 9,
   "metadata": {},
   "outputs": [],
   "source": [
    "def handle_batch(sents, nlp, model_kb):\n",
    "    docs = nlp.pipe(sents, n_threads=16, batch_size=len(sents))\n",
    "    ents_list = []\n",
    "    for doc in docs:\n",
    "        ents = []\n",
    "        for eid, ent in enumerate(doc.ents):\n",
    "            kb_ents = ent._.kb_ents\n",
    "            for cid, score in kb_ents:\n",
    "                ents.append((eid, model_kb, ent.text, cid, \n",
    "                             score, ent.start_char, ent.end_char))\n",
    "        ents_list.append(ents)\n",
    "    return ents_list\n",
    "\n",
    "\n",
    "def handle_partition(part):\n",
    "    worker = get_worker()\n",
    "    nlp = worker.nlp\n",
    "    batch_size = 32\n",
    "    sent_batch, ent_batch, entities = [], [], []\n",
    "    for _, row in part.iterrows():\n",
    "        if len(sent_batch) % batch_size == 0 and len(sent_batch) > 0:\n",
    "            ent_batch = handle_batch(sent_batch, nlp, MODEL_KB)\n",
    "            entities.extend(ent_batch)\n",
    "            sent_batch = []\n",
    "        try:\n",
    "            sent_batch.append(row.stext)\n",
    "        except ValueError:\n",
    "            continue\n",
    "    if len(sent_batch) > 0:\n",
    "        ent_batch = handle_batch(sent_batch, nlp, MODEL_KB)\n",
    "        entities.extend(ent_batch)\n",
    "    return entities"
   ]
  },
  {
   "cell_type": "code",
   "execution_count": 10,
   "metadata": {},
   "outputs": [],
   "source": [
    "entities_df = sentences_df.copy()"
   ]
  },
  {
   "cell_type": "code",
   "execution_count": 11,
   "metadata": {},
   "outputs": [],
   "source": [
    "entities_df[\"entities\"] = entities_df.map_partitions(\n",
    "    lambda part: handle_partition(part), meta=(\"object\"))\n",
    "entities_df = entities_df.drop(columns=[\"stext\"])\n",
    "entities_df = entities_df.explode(\"entities\")\n",
    "entities_df = entities_df.dropna()\n",
    "\n",
    "entities_df[\"eid\"] = entities_df.apply(\n",
    "    lambda row: row.entities[0], meta=(\"int\"), axis=1)\n",
    "entities_df[\"eclass\"] = entities_df.apply(\n",
    "    lambda row: row.entities[1], meta=(\"str\"), axis=1)\n",
    "entities_df[\"etext\"] = entities_df.apply(\n",
    "    lambda row: row.entities[2], meta=(\"str\"), axis=1)\n",
    "entities_df[\"elabel\"] = entities_df.apply(\n",
    "    lambda row: row.entities[3], meta=(\"str\"), axis=1)\n",
    "entities_df[\"escore\"] = entities_df.apply(\n",
    "    lambda row: row.entities[4], meta=(\"float\"), axis=1)\n",
    "entities_df[\"ent_start_char\"] = entities_df.apply(\n",
    "    lambda row: row.entities[5], meta=(\"int\"), axis=1)\n",
    "entities_df[\"ent_end_char\"] = entities_df.apply(\n",
    "    lambda row: row.entities[6], meta=(\"int\"), axis=1)\n",
    "\n",
    "entities_df = entities_df.drop(columns=[\"entities\"])"
   ]
  },
  {
   "cell_type": "code",
   "execution_count": 12,
   "metadata": {},
   "outputs": [],
   "source": [
    "entities_df.cord_uid = entities_df.cord_uid.astype(str)\n",
    "entities_df.pid = entities_df.pid.astype(str)\n",
    "entities_df.sid = entities_df.sid.astype(np.int32)\n",
    "entities_df.eid = entities_df.eid.astype(np.int32)\n",
    "entities_df.eclass = entities_df.eclass.astype(str)\n",
    "entities_df.etext = entities_df.etext.astype(str)\n",
    "entities_df.elabel = entities_df.elabel.astype(str)\n",
    "entities_df.escore = entities_df.escore.astype(np.float32)\n",
    "entities_df.ent_start_char = entities_df.ent_start_char.astype(np.int32)\n",
    "entities_df.ent_end_char = entities_df.ent_end_char.astype(np.int32)"
   ]
  },
  {
   "cell_type": "code",
   "execution_count": 13,
   "metadata": {},
   "outputs": [],
   "source": [
    "fs = s3fs.S3FileSystem()\n",
    "if fs.exists(ENTITIES_FOLDER):\n",
    "    fs.rm(ENTITIES_FOLDER, recursive=True)"
   ]
  },
  {
   "cell_type": "code",
   "execution_count": 14,
   "metadata": {},
   "outputs": [
    {
     "name": "stderr",
     "output_type": "stream",
     "text": [
      "/opt/conda/envs/saturn/lib/python3.7/site-packages/scispacy/candidate_generation.py:283: VisibleDeprecationWarning: Creating an ndarray from ragged nested sequences (which is a list-or-tuple of lists-or-tuples-or ndarrays with different lengths or shapes) is deprecated. If you meant to do this, you must specify 'dtype=object' when creating the ndarray\n",
      "  extended_neighbors[empty_vectors_boolean_flags] = numpy.array(neighbors)[:-1]\n",
      "/opt/conda/envs/saturn/lib/python3.7/site-packages/scispacy/candidate_generation.py:284: VisibleDeprecationWarning: Creating an ndarray from ragged nested sequences (which is a list-or-tuple of lists-or-tuples-or ndarrays with different lengths or shapes) is deprecated. If you meant to do this, you must specify 'dtype=object' when creating the ndarray\n",
      "  extended_distances[empty_vectors_boolean_flags] = numpy.array(distances)[:-1]\n"
     ]
    }
   ],
   "source": [
    "entities_df.to_parquet(ENTITIES_FOLDER, engine=\"pyarrow\", compression=\"snappy\")"
   ]
  },
  {
   "cell_type": "markdown",
   "metadata": {},
   "source": [
    "## Verify Result"
   ]
  },
  {
   "cell_type": "code",
   "execution_count": 15,
   "metadata": {},
   "outputs": [
    {
     "data": {
      "text/html": [
       "<div>\n",
       "<style scoped>\n",
       "    .dataframe tbody tr th:only-of-type {\n",
       "        vertical-align: middle;\n",
       "    }\n",
       "\n",
       "    .dataframe tbody tr th {\n",
       "        vertical-align: top;\n",
       "    }\n",
       "\n",
       "    .dataframe thead th {\n",
       "        text-align: right;\n",
       "    }\n",
       "</style>\n",
       "<table border=\"1\" class=\"dataframe\">\n",
       "  <thead>\n",
       "    <tr style=\"text-align: right;\">\n",
       "      <th></th>\n",
       "      <th>cord_uid</th>\n",
       "      <th>pid</th>\n",
       "      <th>sid</th>\n",
       "      <th>eid</th>\n",
       "      <th>eclass</th>\n",
       "      <th>etext</th>\n",
       "      <th>elabel</th>\n",
       "      <th>escore</th>\n",
       "      <th>ent_start_char</th>\n",
       "      <th>ent_end_char</th>\n",
       "    </tr>\n",
       "  </thead>\n",
       "  <tbody>\n",
       "    <tr>\n",
       "      <th>6498</th>\n",
       "      <td>sz7qmi8q</td>\n",
       "      <td>A0</td>\n",
       "      <td>8</td>\n",
       "      <td>0</td>\n",
       "      <td>hpo</td>\n",
       "      <td>Im</td>\n",
       "      <td>C1334260</td>\n",
       "      <td>0.770292</td>\n",
       "      <td>0</td>\n",
       "      <td>2</td>\n",
       "    </tr>\n",
       "    <tr>\n",
       "      <th>6498</th>\n",
       "      <td>sz7qmi8q</td>\n",
       "      <td>A2</td>\n",
       "      <td>1</td>\n",
       "      <td>8</td>\n",
       "      <td>hpo</td>\n",
       "      <td>CPI</td>\n",
       "      <td>C0007789</td>\n",
       "      <td>1.000000</td>\n",
       "      <td>218</td>\n",
       "      <td>221</td>\n",
       "    </tr>\n",
       "    <tr>\n",
       "      <th>6498</th>\n",
       "      <td>sz7qmi8q</td>\n",
       "      <td>A2</td>\n",
       "      <td>1</td>\n",
       "      <td>8</td>\n",
       "      <td>hpo</td>\n",
       "      <td>CPI</td>\n",
       "      <td>C0162674</td>\n",
       "      <td>1.000000</td>\n",
       "      <td>218</td>\n",
       "      <td>221</td>\n",
       "    </tr>\n",
       "    <tr>\n",
       "      <th>6498</th>\n",
       "      <td>sz7qmi8q</td>\n",
       "      <td>B3</td>\n",
       "      <td>5</td>\n",
       "      <td>0</td>\n",
       "      <td>hpo</td>\n",
       "      <td>Im</td>\n",
       "      <td>C1334260</td>\n",
       "      <td>0.770292</td>\n",
       "      <td>0</td>\n",
       "      <td>2</td>\n",
       "    </tr>\n",
       "    <tr>\n",
       "      <th>6498</th>\n",
       "      <td>sz7qmi8q</td>\n",
       "      <td>B5</td>\n",
       "      <td>6</td>\n",
       "      <td>0</td>\n",
       "      <td>hpo</td>\n",
       "      <td>Im</td>\n",
       "      <td>C1334260</td>\n",
       "      <td>0.770292</td>\n",
       "      <td>0</td>\n",
       "      <td>2</td>\n",
       "    </tr>\n",
       "  </tbody>\n",
       "</table>\n",
       "</div>"
      ],
      "text/plain": [
       "      cord_uid pid  sid  eid eclass etext    elabel    escore  ent_start_char  \\\n",
       "6498  sz7qmi8q  A0    8    0    hpo    Im  C1334260  0.770292               0   \n",
       "6498  sz7qmi8q  A2    1    8    hpo   CPI  C0007789  1.000000             218   \n",
       "6498  sz7qmi8q  A2    1    8    hpo   CPI  C0162674  1.000000             218   \n",
       "6498  sz7qmi8q  B3    5    0    hpo    Im  C1334260  0.770292               0   \n",
       "6498  sz7qmi8q  B5    6    0    hpo    Im  C1334260  0.770292               0   \n",
       "\n",
       "      ent_end_char  \n",
       "6498             2  \n",
       "6498           221  \n",
       "6498           221  \n",
       "6498             2  \n",
       "6498             2  "
      ]
     },
     "execution_count": 15,
     "metadata": {},
     "output_type": "execute_result"
    }
   ],
   "source": [
    "entities_df = dd.read_parquet(ENTITIES_FOLDER, engine=\"pyarrow\")\n",
    "entities_df.head(npartitions=10)"
   ]
  },
  {
   "cell_type": "code",
   "execution_count": 16,
   "metadata": {},
   "outputs": [
    {
     "data": {
      "text/plain": [
       "18750"
      ]
     },
     "execution_count": 16,
     "metadata": {},
     "output_type": "execute_result"
    }
   ],
   "source": [
    "len(entities_df)"
   ]
  }
 ],
 "metadata": {
  "kernelspec": {
   "display_name": "Python 3",
   "language": "python",
   "name": "python3"
  },
  "language_info": {
   "codemirror_mode": {
    "name": "ipython",
    "version": 3
   },
   "file_extension": ".py",
   "mimetype": "text/x-python",
   "name": "python",
   "nbconvert_exporter": "python",
   "pygments_lexer": "ipython3",
   "version": "3.7.5"
  }
 },
 "nbformat": 4,
 "nbformat_minor": 4
}
