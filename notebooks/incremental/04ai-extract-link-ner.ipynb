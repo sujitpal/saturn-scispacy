{
 "cells": [
  {
   "cell_type": "markdown",
   "metadata": {},
   "source": [
    "# Entity Extraction+Linking using modern SciSpaCy models\n",
    "\n",
    "## Initialize Dask Clusters"
   ]
  },
  {
   "cell_type": "code",
   "execution_count": 1,
   "metadata": {},
   "outputs": [
    {
     "data": {
      "text/plain": [
       "{'medium': 'Medium - 2 cores - 4 GB RAM',\n",
       " 'large': 'Large - 2 cores - 16 GB RAM',\n",
       " 'xlarge': 'XLarge - 4 cores - 32 GB RAM',\n",
       " '2xlarge': '2XLarge - 8 cores - 64 GB RAM',\n",
       " '4xlarge': '4XLarge - 16 cores - 128 GB RAM',\n",
       " '8xlarge': '8XLarge - 32 cores - 256 GB RAM',\n",
       " '12xlarge': '12XLarge - 48 cores - 384 GB RAM',\n",
       " '16xlarge': '16XLarge - 64 cores - 512 GB RAM',\n",
       " 'g4dnxlarge': 'T4-XLarge - 4 cores - 16 GB RAM - 1 GPU',\n",
       " 'g4dn4xlarge': 'T4-4XLarge - 16 cores - 64 GB RAM - 1 GPU',\n",
       " 'g4dn8xlarge': 'T4-8XLarge - 32 cores - 128 GB RAM - 1 GPU',\n",
       " 'p32xlarge': 'V100-2XLarge - 8 cores - 61 GB RAM - 1 GPU',\n",
       " 'p38xlarge': 'V100-8XLarge - 32 cores - 244 GB RAM - 4 GPU',\n",
       " 'p316xlarge': 'V100-16XLarge - 64 cores - 488 GB RAM - 8 GPU'}"
      ]
     },
     "execution_count": 1,
     "metadata": {},
     "output_type": "execute_result"
    }
   ],
   "source": [
    "from dask_saturn.core import describe_sizes\n",
    "\n",
    "describe_sizes()"
   ]
  },
  {
   "cell_type": "code",
   "execution_count": 2,
   "metadata": {},
   "outputs": [
    {
     "name": "stdout",
     "output_type": "stream",
     "text": [
      "[2020-09-18 02:21:29] INFO - dask-saturn | Starting cluster. Status: pending\n",
      "[2020-09-18 02:21:38] INFO - dask-saturn | Starting cluster. Status: pending\n",
      "[2020-09-18 02:21:48] INFO - dask-saturn | Starting cluster. Status: pending\n",
      "[2020-09-18 02:22:23] INFO - dask-saturn | Starting cluster. Status: pending\n",
      "[2020-09-18 02:23:02] INFO - dask-saturn | Starting cluster. Status: pending\n",
      "[2020-09-18 02:23:55] INFO - dask-saturn | Starting cluster. Status: pending\n",
      "[2020-09-18 02:24:50] INFO - dask-saturn | Starting cluster. Status: pending\n",
      "[2020-09-18 02:25:47] INFO - dask-saturn | Starting cluster. Status: pending\n",
      "[2020-09-18 02:26:38] INFO - dask-saturn | Cluster is ready\n"
     ]
    },
    {
     "data": {
      "application/vnd.jupyter.widget-view+json": {
       "model_id": "d13f19b0b5dd40658243c8fe20566830",
       "version_major": 2,
       "version_minor": 0
      },
      "text/plain": [
       "VBox(children=(HTML(value='<h2>SaturnCluster</h2>'), HBox(children=(HTML(value='\\n<div>\\n  <style scoped>\\n   …"
      ]
     },
     "metadata": {},
     "output_type": "display_data"
    }
   ],
   "source": [
    "from dask.distributed import Client, wait\n",
    "from dask_saturn import SaturnCluster\n",
    "import time\n",
    "\n",
    "n_workers = 10\n",
    "cluster = SaturnCluster(n_workers=n_workers, \n",
    "                        scheduler_size='2xlarge', \n",
    "                        worker_size='4xlarge', \n",
    "                        nthreads=16)\n",
    "client = Client(cluster)\n",
    "cluster"
   ]
  },
  {
   "cell_type": "code",
   "execution_count": 3,
   "metadata": {},
   "outputs": [
    {
     "name": "stdout",
     "output_type": "stream",
     "text": [
      "Waiting for workers, got 0\n",
      "Waiting for workers, got 0\n",
      "Waiting for workers, got 0\n",
      "Waiting for workers, got 0\n",
      "Waiting for workers, got 0\n",
      "Waiting for workers, got 0\n",
      "Waiting for workers, got 0\n",
      "Waiting for workers, got 1\n",
      "Done!\n"
     ]
    }
   ],
   "source": [
    "while len(client.scheduler_info()['workers']) < n_workers:\n",
    "    print('Waiting for workers, got', len(client.scheduler_info()['workers']))\n",
    "    time.sleep(30)\n",
    "print('Done!')"
   ]
  },
  {
   "cell_type": "code",
   "execution_count": 4,
   "metadata": {},
   "outputs": [],
   "source": [
    "import dask.dataframe as dd\n",
    "import json\n",
    "import numpy as np\n",
    "import pandas as pd\n",
    "import s3fs\n",
    "import spacy\n",
    "import scispacy\n",
    "\n",
    "from dask.distributed import Client, progress, get_worker\n",
    "\n",
    "from scispacy.abbreviation import AbbreviationDetector\n",
    "from scispacy.linking import EntityLinker"
   ]
  },
  {
   "cell_type": "markdown",
   "metadata": {},
   "source": [
    "## Processing"
   ]
  },
  {
   "cell_type": "code",
   "execution_count": 5,
   "metadata": {},
   "outputs": [],
   "source": [
    "MODEL_KB = \"umls\"\n",
    "# MODEL_KB = \"mesh\"\n",
    "# MODEL_KB = \"go\"\n",
    "# MODEL_KB = \"hpo\"\n",
    "# MODEL_KB = \"rxnorm\""
   ]
  },
  {
   "cell_type": "code",
   "execution_count": 6,
   "metadata": {},
   "outputs": [],
   "source": [
    "BUCKET_NAME = \"saturn-elsevierinc\"\n",
    "\n",
    "SENTENCE_FOLDER = \"/\".join([\"s3:/\", BUCKET_NAME, \"incremental\", \"add-sents\"])\n",
    "ENTITIES_FOLDER = \"/\".join([\"s3:/\", BUCKET_NAME, \"incremental\",\n",
    "                            \"add-ents-{:s}\".format(MODEL_KB)])"
   ]
  },
  {
   "cell_type": "code",
   "execution_count": 7,
   "metadata": {},
   "outputs": [
    {
     "data": {
      "text/html": [
       "<div>\n",
       "<style scoped>\n",
       "    .dataframe tbody tr th:only-of-type {\n",
       "        vertical-align: middle;\n",
       "    }\n",
       "\n",
       "    .dataframe tbody tr th {\n",
       "        vertical-align: top;\n",
       "    }\n",
       "\n",
       "    .dataframe thead th {\n",
       "        text-align: right;\n",
       "    }\n",
       "</style>\n",
       "<table border=\"1\" class=\"dataframe\">\n",
       "  <thead>\n",
       "    <tr style=\"text-align: right;\">\n",
       "      <th></th>\n",
       "      <th>cord_uid</th>\n",
       "      <th>pid</th>\n",
       "      <th>sid</th>\n",
       "      <th>stext</th>\n",
       "    </tr>\n",
       "  </thead>\n",
       "  <tbody>\n",
       "    <tr>\n",
       "      <th>0</th>\n",
       "      <td>ug7v899j</td>\n",
       "      <td>T</td>\n",
       "      <td>0</td>\n",
       "      <td>Clinical features of culture-proven Mycoplasma...</td>\n",
       "    </tr>\n",
       "    <tr>\n",
       "      <th>0</th>\n",
       "      <td>ug7v899j</td>\n",
       "      <td>A0</td>\n",
       "      <td>0</td>\n",
       "      <td>Objective: This retrospective chart review des...</td>\n",
       "    </tr>\n",
       "    <tr>\n",
       "      <th>0</th>\n",
       "      <td>ug7v899j</td>\n",
       "      <td>A1</td>\n",
       "      <td>0</td>\n",
       "      <td>Patients with positive M. pneumoniae cultures ...</td>\n",
       "    </tr>\n",
       "    <tr>\n",
       "      <th>0</th>\n",
       "      <td>ug7v899j</td>\n",
       "      <td>A1</td>\n",
       "      <td>1</td>\n",
       "      <td>Charts of patients were reviewed.</td>\n",
       "    </tr>\n",
       "    <tr>\n",
       "      <th>0</th>\n",
       "      <td>ug7v899j</td>\n",
       "      <td>A2</td>\n",
       "      <td>0</td>\n",
       "      <td>Results: 40 patients were identified, 33 (82.5...</td>\n",
       "    </tr>\n",
       "  </tbody>\n",
       "</table>\n",
       "</div>"
      ],
      "text/plain": [
       "   cord_uid pid  sid                                              stext\n",
       "0  ug7v899j   T    0  Clinical features of culture-proven Mycoplasma...\n",
       "0  ug7v899j  A0    0  Objective: This retrospective chart review des...\n",
       "0  ug7v899j  A1    0  Patients with positive M. pneumoniae cultures ...\n",
       "0  ug7v899j  A1    1                  Charts of patients were reviewed.\n",
       "0  ug7v899j  A2    0  Results: 40 patients were identified, 33 (82.5..."
      ]
     },
     "execution_count": 7,
     "metadata": {},
     "output_type": "execute_result"
    }
   ],
   "source": [
    "sentences_df = dd.read_parquet(SENTENCE_FOLDER, engine=\"pyarrow\")\n",
    "sentences_df.head(npartitions=20)"
   ]
  },
  {
   "cell_type": "code",
   "execution_count": 8,
   "metadata": {},
   "outputs": [
    {
     "data": {
      "text/plain": [
       "16952279"
      ]
     },
     "execution_count": 8,
     "metadata": {},
     "output_type": "execute_result"
    }
   ],
   "source": [
    "len(sentences_df)"
   ]
  },
  {
   "cell_type": "code",
   "execution_count": 9,
   "metadata": {},
   "outputs": [
    {
     "name": "stdout",
     "output_type": "stream",
     "text": [
      "CPU times: user 102 ms, sys: 14.9 ms, total: 117 ms\n",
      "Wall time: 2min 44s\n"
     ]
    },
    {
     "data": {
      "text/plain": [
       "{'tcp://10.0.12.69:35073': 0,\n",
       " 'tcp://10.0.12.87:35617': 0,\n",
       " 'tcp://10.0.13.242:42729': 0,\n",
       " 'tcp://10.0.13.52:42737': 0,\n",
       " 'tcp://10.0.16.35:40709': 0,\n",
       " 'tcp://10.0.23.106:42641': 0,\n",
       " 'tcp://10.0.23.209:39369': 0,\n",
       " 'tcp://10.0.26.247:42389': 0,\n",
       " 'tcp://10.0.30.134:32851': 0,\n",
       " 'tcp://10.0.30.89:35683': 0}"
      ]
     },
     "execution_count": 9,
     "metadata": {},
     "output_type": "execute_result"
    }
   ],
   "source": [
    "def build_nlp_pipeline(model_kb):\n",
    "    nlp = spacy.load(\"en_core_sci_md\")\n",
    "    \n",
    "    abbr_detector = AbbreviationDetector(nlp)\n",
    "    nlp.add_pipe(abbr_detector)\n",
    "    \n",
    "    linker = EntityLinker(resolve_abbreviations=True,\n",
    "                          filter_for_definitions=False,\n",
    "                          name=model_kb)\n",
    "    nlp.add_pipe(linker)\n",
    "    \n",
    "    return nlp\n",
    "\n",
    "\n",
    "def nlp_workers():\n",
    "    import traceback\n",
    "    try:\n",
    "        worker = get_worker()\n",
    "        nlp = build_nlp_pipeline(MODEL_KB)\n",
    "        worker.nlp = nlp\n",
    "    except:\n",
    "        return traceback.format_exc()\n",
    "    return 0\n",
    "\n",
    "\n",
    "def check_nlp_workers():\n",
    "    worker = get_worker()\n",
    "    return str(worker.nlp)\n",
    "\n",
    "\n",
    "%time client.run(nlp_workers)"
   ]
  },
  {
   "cell_type": "code",
   "execution_count": 10,
   "metadata": {},
   "outputs": [
    {
     "data": {
      "text/plain": [
       "{'tcp://10.0.12.69:35073': '<spacy.lang.en.English object at 0x7fc4ea5991d0>',\n",
       " 'tcp://10.0.12.87:35617': '<spacy.lang.en.English object at 0x7fd1356ade50>',\n",
       " 'tcp://10.0.13.242:42729': '<spacy.lang.en.English object at 0x7f3761f86d10>',\n",
       " 'tcp://10.0.13.52:42737': '<spacy.lang.en.English object at 0x7f088c33f110>',\n",
       " 'tcp://10.0.16.35:40709': '<spacy.lang.en.English object at 0x7ff9cd1cdf50>',\n",
       " 'tcp://10.0.23.106:42641': '<spacy.lang.en.English object at 0x7fa04b9a5cd0>',\n",
       " 'tcp://10.0.23.209:39369': '<spacy.lang.en.English object at 0x7fbea8ec4210>',\n",
       " 'tcp://10.0.26.247:42389': '<spacy.lang.en.English object at 0x7f50c22cc550>',\n",
       " 'tcp://10.0.30.134:32851': '<spacy.lang.en.English object at 0x7f8199d5cb10>',\n",
       " 'tcp://10.0.30.89:35683': '<spacy.lang.en.English object at 0x7fe576070e10>'}"
      ]
     },
     "execution_count": 10,
     "metadata": {},
     "output_type": "execute_result"
    }
   ],
   "source": [
    "client.run(check_nlp_workers)"
   ]
  },
  {
   "cell_type": "code",
   "execution_count": 11,
   "metadata": {},
   "outputs": [],
   "source": [
    "def handle_batch(sents, nlp, model_kb):\n",
    "    docs = nlp.pipe(sents, n_threads=16, batch_size=len(sents))\n",
    "    ents_list = []\n",
    "    try:\n",
    "        for doc in docs:\n",
    "            ents = []\n",
    "            for eid, ent in enumerate(doc.ents):\n",
    "                try:\n",
    "                    kb_ents = ent._.kb_ents\n",
    "                    for cid, score in kb_ents:\n",
    "                        ents.append((eid, model_kb, ent.text, cid, \n",
    "                                     score, ent.start_char, ent.end_char))\n",
    "                except KeyError:\n",
    "                    continue\n",
    "            ents_list.append(ents)\n",
    "    except KeyError:\n",
    "        pass\n",
    "    return ents_list\n",
    "\n",
    "\n",
    "def handle_partition(part):\n",
    "    worker = get_worker()\n",
    "    nlp = worker.nlp\n",
    "    batch_size = 32\n",
    "    sent_batch, ent_batch, entities = [], [], []\n",
    "    for _, row in part.iterrows():\n",
    "        if len(sent_batch) % batch_size == 0 and len(sent_batch) > 0:\n",
    "            ent_batch = handle_batch(sent_batch, nlp, MODEL_KB)\n",
    "            entities.extend(ent_batch)\n",
    "            sent_batch = []\n",
    "        try:\n",
    "            sent_batch.append(row.stext)\n",
    "        except ValueError:\n",
    "            continue\n",
    "    if len(sent_batch) > 0:\n",
    "        ent_batch = handle_batch(sent_batch, nlp, MODEL_KB)\n",
    "        entities.extend(ent_batch)\n",
    "    return entities"
   ]
  },
  {
   "cell_type": "code",
   "execution_count": 12,
   "metadata": {},
   "outputs": [],
   "source": [
    "entities_df = sentences_df.copy()"
   ]
  },
  {
   "cell_type": "code",
   "execution_count": 13,
   "metadata": {},
   "outputs": [],
   "source": [
    "entities_df[\"entities\"] = entities_df.map_partitions(\n",
    "    lambda part: handle_partition(part), meta=(\"object\"))\n",
    "entities_df = entities_df.drop(columns=[\"stext\"])\n",
    "entities_df = entities_df.explode(\"entities\")\n",
    "entities_df = entities_df.dropna()\n",
    "\n",
    "entities_df[\"eid\"] = entities_df.apply(\n",
    "    lambda row: row.entities[0], meta=(\"int\"), axis=1)\n",
    "entities_df[\"eclass\"] = entities_df.apply(\n",
    "    lambda row: row.entities[1], meta=(\"str\"), axis=1)\n",
    "entities_df[\"etext\"] = entities_df.apply(\n",
    "    lambda row: row.entities[2], meta=(\"str\"), axis=1)\n",
    "entities_df[\"elabel\"] = entities_df.apply(\n",
    "    lambda row: row.entities[3], meta=(\"str\"), axis=1)\n",
    "entities_df[\"escore\"] = entities_df.apply(\n",
    "    lambda row: row.entities[4], meta=(\"float\"), axis=1)\n",
    "entities_df[\"ent_start_char\"] = entities_df.apply(\n",
    "    lambda row: row.entities[5], meta=(\"int\"), axis=1)\n",
    "entities_df[\"ent_end_char\"] = entities_df.apply(\n",
    "    lambda row: row.entities[6], meta=(\"int\"), axis=1)\n",
    "\n",
    "entities_df = entities_df.drop(columns=[\"entities\"])"
   ]
  },
  {
   "cell_type": "code",
   "execution_count": 14,
   "metadata": {},
   "outputs": [],
   "source": [
    "entities_df.cord_uid = entities_df.cord_uid.astype(str)\n",
    "entities_df.pid = entities_df.pid.astype(str)\n",
    "entities_df.sid = entities_df.sid.astype(np.int32)\n",
    "entities_df.eid = entities_df.eid.astype(np.int32)\n",
    "entities_df.eclass = entities_df.eclass.astype(str)\n",
    "entities_df.etext = entities_df.etext.astype(str)\n",
    "entities_df.elabel = entities_df.elabel.astype(str)\n",
    "entities_df.escore = entities_df.escore.astype(np.float32)\n",
    "entities_df.ent_start_char = entities_df.ent_start_char.astype(np.int32)\n",
    "entities_df.ent_end_char = entities_df.ent_end_char.astype(np.int32)"
   ]
  },
  {
   "cell_type": "code",
   "execution_count": 15,
   "metadata": {},
   "outputs": [],
   "source": [
    "fs = s3fs.S3FileSystem()\n",
    "if fs.exists(ENTITIES_FOLDER):\n",
    "    fs.rm(ENTITIES_FOLDER, recursive=True)"
   ]
  },
  {
   "cell_type": "code",
   "execution_count": 16,
   "metadata": {},
   "outputs": [
    {
     "name": "stdout",
     "output_type": "stream",
     "text": [
      "CPU times: user 15 s, sys: 1.02 s, total: 16 s\n",
      "Wall time: 4h 59min 10s\n"
     ]
    }
   ],
   "source": [
    "%%time\n",
    "entities_df.to_parquet(ENTITIES_FOLDER, engine=\"pyarrow\", compression=\"snappy\")"
   ]
  },
  {
   "cell_type": "markdown",
   "metadata": {},
   "source": [
    "## Verify Result"
   ]
  },
  {
   "cell_type": "code",
   "execution_count": 17,
   "metadata": {},
   "outputs": [
    {
     "data": {
      "text/plain": [
       "'s3://saturn-elsevierinc/cord19-ents-umls-pq'"
      ]
     },
     "execution_count": 17,
     "metadata": {},
     "output_type": "execute_result"
    }
   ],
   "source": [
    "ENTITIES_FOLDER"
   ]
  },
  {
   "cell_type": "code",
   "execution_count": 18,
   "metadata": {},
   "outputs": [
    {
     "data": {
      "text/plain": [
       "3279.857755"
      ]
     },
     "execution_count": 18,
     "metadata": {},
     "output_type": "execute_result"
    }
   ],
   "source": [
    "fs.du(ENTITIES_FOLDER) / 1e6"
   ]
  },
  {
   "cell_type": "code",
   "execution_count": 19,
   "metadata": {},
   "outputs": [
    {
     "data": {
      "text/html": [
       "<div>\n",
       "<style scoped>\n",
       "    .dataframe tbody tr th:only-of-type {\n",
       "        vertical-align: middle;\n",
       "    }\n",
       "\n",
       "    .dataframe tbody tr th {\n",
       "        vertical-align: top;\n",
       "    }\n",
       "\n",
       "    .dataframe thead th {\n",
       "        text-align: right;\n",
       "    }\n",
       "</style>\n",
       "<table border=\"1\" class=\"dataframe\">\n",
       "  <thead>\n",
       "    <tr style=\"text-align: right;\">\n",
       "      <th></th>\n",
       "      <th>cord_uid</th>\n",
       "      <th>pid</th>\n",
       "      <th>sid</th>\n",
       "      <th>eid</th>\n",
       "      <th>eclass</th>\n",
       "      <th>etext</th>\n",
       "      <th>elabel</th>\n",
       "      <th>escore</th>\n",
       "      <th>ent_start_char</th>\n",
       "      <th>ent_end_char</th>\n",
       "    </tr>\n",
       "  </thead>\n",
       "  <tbody>\n",
       "    <tr>\n",
       "      <th>0</th>\n",
       "      <td>ug7v899j</td>\n",
       "      <td>T</td>\n",
       "      <td>0</td>\n",
       "      <td>0</td>\n",
       "      <td>umls</td>\n",
       "      <td>Clinical features</td>\n",
       "      <td>C3810252</td>\n",
       "      <td>0.793221</td>\n",
       "      <td>0</td>\n",
       "      <td>17</td>\n",
       "    </tr>\n",
       "    <tr>\n",
       "      <th>0</th>\n",
       "      <td>ug7v899j</td>\n",
       "      <td>T</td>\n",
       "      <td>0</td>\n",
       "      <td>0</td>\n",
       "      <td>umls</td>\n",
       "      <td>Clinical features</td>\n",
       "      <td>C3554759</td>\n",
       "      <td>0.792206</td>\n",
       "      <td>0</td>\n",
       "      <td>17</td>\n",
       "    </tr>\n",
       "    <tr>\n",
       "      <th>0</th>\n",
       "      <td>ug7v899j</td>\n",
       "      <td>T</td>\n",
       "      <td>0</td>\n",
       "      <td>0</td>\n",
       "      <td>umls</td>\n",
       "      <td>Clinical features</td>\n",
       "      <td>C1521970</td>\n",
       "      <td>0.762371</td>\n",
       "      <td>0</td>\n",
       "      <td>17</td>\n",
       "    </tr>\n",
       "    <tr>\n",
       "      <th>0</th>\n",
       "      <td>ug7v899j</td>\n",
       "      <td>T</td>\n",
       "      <td>0</td>\n",
       "      <td>2</td>\n",
       "      <td>umls</td>\n",
       "      <td>Mycoplasma pneumoniae infections</td>\n",
       "      <td>C3824874</td>\n",
       "      <td>1.000000</td>\n",
       "      <td>36</td>\n",
       "      <td>68</td>\n",
       "    </tr>\n",
       "    <tr>\n",
       "      <th>0</th>\n",
       "      <td>ug7v899j</td>\n",
       "      <td>T</td>\n",
       "      <td>0</td>\n",
       "      <td>2</td>\n",
       "      <td>umls</td>\n",
       "      <td>Mycoplasma pneumoniae infections</td>\n",
       "      <td>C3241943</td>\n",
       "      <td>0.881995</td>\n",
       "      <td>36</td>\n",
       "      <td>68</td>\n",
       "    </tr>\n",
       "  </tbody>\n",
       "</table>\n",
       "</div>"
      ],
      "text/plain": [
       "   cord_uid pid  sid  eid eclass                             etext    elabel  \\\n",
       "0  ug7v899j   T    0    0   umls                 Clinical features  C3810252   \n",
       "0  ug7v899j   T    0    0   umls                 Clinical features  C3554759   \n",
       "0  ug7v899j   T    0    0   umls                 Clinical features  C1521970   \n",
       "0  ug7v899j   T    0    2   umls  Mycoplasma pneumoniae infections  C3824874   \n",
       "0  ug7v899j   T    0    2   umls  Mycoplasma pneumoniae infections  C3241943   \n",
       "\n",
       "     escore  ent_start_char  ent_end_char  \n",
       "0  0.793221               0            17  \n",
       "0  0.792206               0            17  \n",
       "0  0.762371               0            17  \n",
       "0  1.000000              36            68  \n",
       "0  0.881995              36            68  "
      ]
     },
     "execution_count": 19,
     "metadata": {},
     "output_type": "execute_result"
    }
   ],
   "source": [
    "entities_df = dd.read_parquet(ENTITIES_FOLDER, engine=\"pyarrow\")\n",
    "entities_df.head(npartitions=10)"
   ]
  },
  {
   "cell_type": "code",
   "execution_count": 20,
   "metadata": {},
   "outputs": [
    {
     "data": {
      "text/plain": [
       "445037678"
      ]
     },
     "execution_count": 20,
     "metadata": {},
     "output_type": "execute_result"
    }
   ],
   "source": [
    "len(entities_df)"
   ]
  },
  {
   "cell_type": "code",
   "execution_count": 21,
   "metadata": {},
   "outputs": [],
   "source": [
    "# do this if youre done using the cluster\n",
    "cluster.close()"
   ]
  },
  {
   "cell_type": "code",
   "execution_count": null,
   "metadata": {},
   "outputs": [],
   "source": []
  }
 ],
 "metadata": {
  "kernelspec": {
   "display_name": "Python 3",
   "language": "python",
   "name": "python3"
  },
  "language_info": {
   "codemirror_mode": {
    "name": "ipython",
    "version": 3
   },
   "file_extension": ".py",
   "mimetype": "text/x-python",
   "name": "python",
   "nbconvert_exporter": "python",
   "pygments_lexer": "ipython3",
   "version": "3.7.6"
  }
 },
 "nbformat": 4,
 "nbformat_minor": 4
}
